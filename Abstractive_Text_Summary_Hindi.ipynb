{
  "cells": [
    {
      "cell_type": "code",
      "execution_count": 1,
      "metadata": {
        "id": "nHOtn5-Yzutf",
        "colab": {
          "base_uri": "https://localhost:8080/"
        },
        "outputId": "d56c86c1-4555-4b8c-9517-a432ba3e435e"
      },
      "outputs": [
        {
          "output_type": "stream",
          "name": "stdout",
          "text": [
            "Mounted at /content/drive\n"
          ]
        }
      ],
      "source": [
        "from google.colab import drive\n",
        "drive.mount('/content/drive')"
      ]
    },
    {
      "cell_type": "code",
      "execution_count": 2,
      "metadata": {
        "id": "arwL40pnz0T1"
      },
      "outputs": [],
      "source": [
        "default_path = \"<drive path to files>\""
      ]
    },
    {
      "cell_type": "markdown",
      "metadata": {
        "id": "cGei2JacaO6C"
      },
      "source": [
        "### Loading Data"
      ]
    },
    {
      "cell_type": "code",
      "execution_count": 3,
      "metadata": {
        "id": "rVXbBfAy0bxJ"
      },
      "outputs": [],
      "source": [
        "import pandas as pd\n",
        "import torch\n",
        "import random\n",
        "import numpy as np"
      ]
    },
    {
      "cell_type": "markdown",
      "metadata": {
        "id": "xor2OxjJL8SJ"
      },
      "source": [
        "Training Data"
      ]
    },
    {
      "cell_type": "code",
      "execution_count": 4,
      "metadata": {
        "colab": {
          "base_uri": "https://localhost:8080/",
          "height": 206
        },
        "id": "La5ar_12zt8J",
        "outputId": "cf0024ce-ee83-4f06-d3d6-937333536b18"
      },
      "outputs": [
        {
          "output_type": "execute_result",
          "data": {
            "text/plain": [
              "                                            headline  \\\n",
              "0  EXCLUSIVE: दिल्ली में डीजल टैक्सियों पर बैन से...   \n",
              "1  जॉर्डन: राष्ट्रपति मुखर्जी ने 86 करोड़ डॉलर के...   \n",
              "2  UN में पाकिस्तान की राजदूत मलीहा लोधी ने कराई ...   \n",
              "3  38 देशों में पीएम नरेंद्र मोदी बायोपिक को रिली...   \n",
              "4           13 अगस्त 2011: दिनभर की बड़ी खबरें पढ़ें   \n",
              "\n",
              "                                             article  \n",
              "0  दिल्ली में सुप्रीम कोर्ट के डीज़ल टैक्सियों को...  \n",
              "1  जॉर्डन के ऐतिहासिक दौरे पर पहुंचे राष्ट्रपति प...  \n",
              "2  पाकिस्तानी नेताओं को विवादित और हास्यास्पद बया...  \n",
              "3  पीएम नरेंद्र मोदी बायोपिक में विवेक ओबेरॉय ने ...  \n",
              "4  देश, दुनिया, महानगर, खेल, आर्थिक और बॉलीवुड मे...  "
            ],
            "text/html": [
              "\n",
              "  <div id=\"df-17570157-1891-4056-8086-dea82d1c4763\">\n",
              "    <div class=\"colab-df-container\">\n",
              "      <div>\n",
              "<style scoped>\n",
              "    .dataframe tbody tr th:only-of-type {\n",
              "        vertical-align: middle;\n",
              "    }\n",
              "\n",
              "    .dataframe tbody tr th {\n",
              "        vertical-align: top;\n",
              "    }\n",
              "\n",
              "    .dataframe thead th {\n",
              "        text-align: right;\n",
              "    }\n",
              "</style>\n",
              "<table border=\"1\" class=\"dataframe\">\n",
              "  <thead>\n",
              "    <tr style=\"text-align: right;\">\n",
              "      <th></th>\n",
              "      <th>headline</th>\n",
              "      <th>article</th>\n",
              "    </tr>\n",
              "  </thead>\n",
              "  <tbody>\n",
              "    <tr>\n",
              "      <th>0</th>\n",
              "      <td>EXCLUSIVE: दिल्ली में डीजल टैक्सियों पर बैन से...</td>\n",
              "      <td>दिल्ली में सुप्रीम कोर्ट के डीज़ल टैक्सियों को...</td>\n",
              "    </tr>\n",
              "    <tr>\n",
              "      <th>1</th>\n",
              "      <td>जॉर्डन: राष्ट्रपति मुखर्जी ने 86 करोड़ डॉलर के...</td>\n",
              "      <td>जॉर्डन के ऐतिहासिक दौरे पर पहुंचे राष्ट्रपति प...</td>\n",
              "    </tr>\n",
              "    <tr>\n",
              "      <th>2</th>\n",
              "      <td>UN में पाकिस्तान की राजदूत मलीहा लोधी ने कराई ...</td>\n",
              "      <td>पाकिस्तानी नेताओं को विवादित और हास्यास्पद बया...</td>\n",
              "    </tr>\n",
              "    <tr>\n",
              "      <th>3</th>\n",
              "      <td>38 देशों में पीएम नरेंद्र मोदी बायोपिक को रिली...</td>\n",
              "      <td>पीएम नरेंद्र मोदी बायोपिक में विवेक ओबेरॉय ने ...</td>\n",
              "    </tr>\n",
              "    <tr>\n",
              "      <th>4</th>\n",
              "      <td>13 अगस्त 2011: दिनभर की बड़ी खबरें पढ़ें</td>\n",
              "      <td>देश, दुनिया, महानगर, खेल, आर्थिक और बॉलीवुड मे...</td>\n",
              "    </tr>\n",
              "  </tbody>\n",
              "</table>\n",
              "</div>\n",
              "      <button class=\"colab-df-convert\" onclick=\"convertToInteractive('df-17570157-1891-4056-8086-dea82d1c4763')\"\n",
              "              title=\"Convert this dataframe to an interactive table.\"\n",
              "              style=\"display:none;\">\n",
              "        \n",
              "  <svg xmlns=\"http://www.w3.org/2000/svg\" height=\"24px\"viewBox=\"0 0 24 24\"\n",
              "       width=\"24px\">\n",
              "    <path d=\"M0 0h24v24H0V0z\" fill=\"none\"/>\n",
              "    <path d=\"M18.56 5.44l.94 2.06.94-2.06 2.06-.94-2.06-.94-.94-2.06-.94 2.06-2.06.94zm-11 1L8.5 8.5l.94-2.06 2.06-.94-2.06-.94L8.5 2.5l-.94 2.06-2.06.94zm10 10l.94 2.06.94-2.06 2.06-.94-2.06-.94-.94-2.06-.94 2.06-2.06.94z\"/><path d=\"M17.41 7.96l-1.37-1.37c-.4-.4-.92-.59-1.43-.59-.52 0-1.04.2-1.43.59L10.3 9.45l-7.72 7.72c-.78.78-.78 2.05 0 2.83L4 21.41c.39.39.9.59 1.41.59.51 0 1.02-.2 1.41-.59l7.78-7.78 2.81-2.81c.8-.78.8-2.07 0-2.86zM5.41 20L4 18.59l7.72-7.72 1.47 1.35L5.41 20z\"/>\n",
              "  </svg>\n",
              "      </button>\n",
              "      \n",
              "  <style>\n",
              "    .colab-df-container {\n",
              "      display:flex;\n",
              "      flex-wrap:wrap;\n",
              "      gap: 12px;\n",
              "    }\n",
              "\n",
              "    .colab-df-convert {\n",
              "      background-color: #E8F0FE;\n",
              "      border: none;\n",
              "      border-radius: 50%;\n",
              "      cursor: pointer;\n",
              "      display: none;\n",
              "      fill: #1967D2;\n",
              "      height: 32px;\n",
              "      padding: 0 0 0 0;\n",
              "      width: 32px;\n",
              "    }\n",
              "\n",
              "    .colab-df-convert:hover {\n",
              "      background-color: #E2EBFA;\n",
              "      box-shadow: 0px 1px 2px rgba(60, 64, 67, 0.3), 0px 1px 3px 1px rgba(60, 64, 67, 0.15);\n",
              "      fill: #174EA6;\n",
              "    }\n",
              "\n",
              "    [theme=dark] .colab-df-convert {\n",
              "      background-color: #3B4455;\n",
              "      fill: #D2E3FC;\n",
              "    }\n",
              "\n",
              "    [theme=dark] .colab-df-convert:hover {\n",
              "      background-color: #434B5C;\n",
              "      box-shadow: 0px 1px 3px 1px rgba(0, 0, 0, 0.15);\n",
              "      filter: drop-shadow(0px 1px 2px rgba(0, 0, 0, 0.3));\n",
              "      fill: #FFFFFF;\n",
              "    }\n",
              "  </style>\n",
              "\n",
              "      <script>\n",
              "        const buttonEl =\n",
              "          document.querySelector('#df-17570157-1891-4056-8086-dea82d1c4763 button.colab-df-convert');\n",
              "        buttonEl.style.display =\n",
              "          google.colab.kernel.accessAllowed ? 'block' : 'none';\n",
              "\n",
              "        async function convertToInteractive(key) {\n",
              "          const element = document.querySelector('#df-17570157-1891-4056-8086-dea82d1c4763');\n",
              "          const dataTable =\n",
              "            await google.colab.kernel.invokeFunction('convertToInteractive',\n",
              "                                                     [key], {});\n",
              "          if (!dataTable) return;\n",
              "\n",
              "          const docLinkHtml = 'Like what you see? Visit the ' +\n",
              "            '<a target=\"_blank\" href=https://colab.research.google.com/notebooks/data_table.ipynb>data table notebook</a>'\n",
              "            + ' to learn more about interactive tables.';\n",
              "          element.innerHTML = '';\n",
              "          dataTable['output_type'] = 'display_data';\n",
              "          await google.colab.output.renderOutput(dataTable, element);\n",
              "          const docLink = document.createElement('div');\n",
              "          docLink.innerHTML = docLinkHtml;\n",
              "          element.appendChild(docLink);\n",
              "        }\n",
              "      </script>\n",
              "    </div>\n",
              "  </div>\n",
              "  "
            ]
          },
          "metadata": {},
          "execution_count": 4
        }
      ],
      "source": [
        "train = pd.read_csv(default_path+\"train.csv\")\n",
        "train.head()"
      ]
    },
    {
      "cell_type": "code",
      "execution_count": 5,
      "metadata": {
        "colab": {
          "base_uri": "https://localhost:8080/"
        },
        "id": "pbKAsewzzt8P",
        "outputId": "d7066e97-de8a-4e50-8c7b-d186de71418c"
      },
      "outputs": [
        {
          "output_type": "stream",
          "name": "stdout",
          "text": [
            "0    EXCLUSIVE: दिल्ली में डीजल टैक्सियों पर बैन से...\n",
            "Name: headline, dtype: object\n"
          ]
        }
      ],
      "source": [
        "print(train.head(1)[\"headline\"])"
      ]
    },
    {
      "cell_type": "code",
      "execution_count": 6,
      "metadata": {
        "colab": {
          "base_uri": "https://localhost:8080/"
        },
        "id": "WexyzTOH3guJ",
        "outputId": "97d4dec0-25a6-4857-83e3-22f31b0952b3"
      },
      "outputs": [
        {
          "output_type": "execute_result",
          "data": {
            "text/plain": [
              "(266607, 2)"
            ]
          },
          "metadata": {},
          "execution_count": 6
        }
      ],
      "source": [
        "train.shape"
      ]
    },
    {
      "cell_type": "markdown",
      "metadata": {
        "id": "BP8lJ9HqMATI"
      },
      "source": [
        "Testing Data"
      ]
    },
    {
      "cell_type": "code",
      "execution_count": 7,
      "metadata": {
        "colab": {
          "base_uri": "https://localhost:8080/"
        },
        "id": "U6XSQtvQMB8x",
        "outputId": "a24a3967-28c7-4ae9-907a-1cba46d9c4a3"
      },
      "outputs": [
        {
          "output_type": "execute_result",
          "data": {
            "text/plain": [
              "(66653, 2)"
            ]
          },
          "metadata": {},
          "execution_count": 7
        }
      ],
      "source": [
        "test = pd.read_csv(default_path+\"news_data.csv\")\n",
        "test.shape"
      ]
    },
    {
      "cell_type": "code",
      "execution_count": 8,
      "metadata": {
        "colab": {
          "base_uri": "https://localhost:8080/",
          "height": 206
        },
        "id": "eeJBqzfZkKpK",
        "outputId": "9e4faadd-b930-469b-c064-5a582fb0dcc5"
      },
      "outputs": [
        {
          "output_type": "execute_result",
          "data": {
            "text/plain": [
              "                                            headline  \\\n",
              "0  पठानकोट पहुंचे PM मोदी, एयरबेस का जायजा ले बॉर...   \n",
              "1  सचिन ने देशवासियों को समर्पित किया अपना दोहरा शतक   \n",
              "2  एनआईए करेगी छत्तीसगढ़ में सुरक्षा खामियों की ज...   \n",
              "3  सीधी बात:  शाह बोले- हमारा बस चलता तो अब तक मं...   \n",
              "4  ऋषभ पंत के पास यूनिक टैलेंट, उसके साथ छेड़छाड़ न...   \n",
              "\n",
              "                                             article  \n",
              "0  प्रधानमंत्री नरेंद्र मोदी पठानकोट एयरबेस पहुंच...  \n",
              "1  सचिन तेंदुलकर ने एकदिवसीय अंतरराष्ट्रीय क्रिके...  \n",
              "2  केंद्रीय गृह राज्य मंत्री आर. पी. एन. सिंह ने ...  \n",
              "3  भारतीय जनता पार्टी (बीजेपी) के राष्ट्रीय अध्यक...  \n",
              "4  ऋषभ पंत की कभी कभार इस बात के लिए आलोचना की जा...  "
            ],
            "text/html": [
              "\n",
              "  <div id=\"df-96c29489-5c61-4cf2-b041-ad48ca5478bb\">\n",
              "    <div class=\"colab-df-container\">\n",
              "      <div>\n",
              "<style scoped>\n",
              "    .dataframe tbody tr th:only-of-type {\n",
              "        vertical-align: middle;\n",
              "    }\n",
              "\n",
              "    .dataframe tbody tr th {\n",
              "        vertical-align: top;\n",
              "    }\n",
              "\n",
              "    .dataframe thead th {\n",
              "        text-align: right;\n",
              "    }\n",
              "</style>\n",
              "<table border=\"1\" class=\"dataframe\">\n",
              "  <thead>\n",
              "    <tr style=\"text-align: right;\">\n",
              "      <th></th>\n",
              "      <th>headline</th>\n",
              "      <th>article</th>\n",
              "    </tr>\n",
              "  </thead>\n",
              "  <tbody>\n",
              "    <tr>\n",
              "      <th>0</th>\n",
              "      <td>पठानकोट पहुंचे PM मोदी, एयरबेस का जायजा ले बॉर...</td>\n",
              "      <td>प्रधानमंत्री नरेंद्र मोदी पठानकोट एयरबेस पहुंच...</td>\n",
              "    </tr>\n",
              "    <tr>\n",
              "      <th>1</th>\n",
              "      <td>सचिन ने देशवासियों को समर्पित किया अपना दोहरा शतक</td>\n",
              "      <td>सचिन तेंदुलकर ने एकदिवसीय अंतरराष्ट्रीय क्रिके...</td>\n",
              "    </tr>\n",
              "    <tr>\n",
              "      <th>2</th>\n",
              "      <td>एनआईए करेगी छत्तीसगढ़ में सुरक्षा खामियों की ज...</td>\n",
              "      <td>केंद्रीय गृह राज्य मंत्री आर. पी. एन. सिंह ने ...</td>\n",
              "    </tr>\n",
              "    <tr>\n",
              "      <th>3</th>\n",
              "      <td>सीधी बात:  शाह बोले- हमारा बस चलता तो अब तक मं...</td>\n",
              "      <td>भारतीय जनता पार्टी (बीजेपी) के राष्ट्रीय अध्यक...</td>\n",
              "    </tr>\n",
              "    <tr>\n",
              "      <th>4</th>\n",
              "      <td>ऋषभ पंत के पास यूनिक टैलेंट, उसके साथ छेड़छाड़ न...</td>\n",
              "      <td>ऋषभ पंत की कभी कभार इस बात के लिए आलोचना की जा...</td>\n",
              "    </tr>\n",
              "  </tbody>\n",
              "</table>\n",
              "</div>\n",
              "      <button class=\"colab-df-convert\" onclick=\"convertToInteractive('df-96c29489-5c61-4cf2-b041-ad48ca5478bb')\"\n",
              "              title=\"Convert this dataframe to an interactive table.\"\n",
              "              style=\"display:none;\">\n",
              "        \n",
              "  <svg xmlns=\"http://www.w3.org/2000/svg\" height=\"24px\"viewBox=\"0 0 24 24\"\n",
              "       width=\"24px\">\n",
              "    <path d=\"M0 0h24v24H0V0z\" fill=\"none\"/>\n",
              "    <path d=\"M18.56 5.44l.94 2.06.94-2.06 2.06-.94-2.06-.94-.94-2.06-.94 2.06-2.06.94zm-11 1L8.5 8.5l.94-2.06 2.06-.94-2.06-.94L8.5 2.5l-.94 2.06-2.06.94zm10 10l.94 2.06.94-2.06 2.06-.94-2.06-.94-.94-2.06-.94 2.06-2.06.94z\"/><path d=\"M17.41 7.96l-1.37-1.37c-.4-.4-.92-.59-1.43-.59-.52 0-1.04.2-1.43.59L10.3 9.45l-7.72 7.72c-.78.78-.78 2.05 0 2.83L4 21.41c.39.39.9.59 1.41.59.51 0 1.02-.2 1.41-.59l7.78-7.78 2.81-2.81c.8-.78.8-2.07 0-2.86zM5.41 20L4 18.59l7.72-7.72 1.47 1.35L5.41 20z\"/>\n",
              "  </svg>\n",
              "      </button>\n",
              "      \n",
              "  <style>\n",
              "    .colab-df-container {\n",
              "      display:flex;\n",
              "      flex-wrap:wrap;\n",
              "      gap: 12px;\n",
              "    }\n",
              "\n",
              "    .colab-df-convert {\n",
              "      background-color: #E8F0FE;\n",
              "      border: none;\n",
              "      border-radius: 50%;\n",
              "      cursor: pointer;\n",
              "      display: none;\n",
              "      fill: #1967D2;\n",
              "      height: 32px;\n",
              "      padding: 0 0 0 0;\n",
              "      width: 32px;\n",
              "    }\n",
              "\n",
              "    .colab-df-convert:hover {\n",
              "      background-color: #E2EBFA;\n",
              "      box-shadow: 0px 1px 2px rgba(60, 64, 67, 0.3), 0px 1px 3px 1px rgba(60, 64, 67, 0.15);\n",
              "      fill: #174EA6;\n",
              "    }\n",
              "\n",
              "    [theme=dark] .colab-df-convert {\n",
              "      background-color: #3B4455;\n",
              "      fill: #D2E3FC;\n",
              "    }\n",
              "\n",
              "    [theme=dark] .colab-df-convert:hover {\n",
              "      background-color: #434B5C;\n",
              "      box-shadow: 0px 1px 3px 1px rgba(0, 0, 0, 0.15);\n",
              "      filter: drop-shadow(0px 1px 2px rgba(0, 0, 0, 0.3));\n",
              "      fill: #FFFFFF;\n",
              "    }\n",
              "  </style>\n",
              "\n",
              "      <script>\n",
              "        const buttonEl =\n",
              "          document.querySelector('#df-96c29489-5c61-4cf2-b041-ad48ca5478bb button.colab-df-convert');\n",
              "        buttonEl.style.display =\n",
              "          google.colab.kernel.accessAllowed ? 'block' : 'none';\n",
              "\n",
              "        async function convertToInteractive(key) {\n",
              "          const element = document.querySelector('#df-96c29489-5c61-4cf2-b041-ad48ca5478bb');\n",
              "          const dataTable =\n",
              "            await google.colab.kernel.invokeFunction('convertToInteractive',\n",
              "                                                     [key], {});\n",
              "          if (!dataTable) return;\n",
              "\n",
              "          const docLinkHtml = 'Like what you see? Visit the ' +\n",
              "            '<a target=\"_blank\" href=https://colab.research.google.com/notebooks/data_table.ipynb>data table notebook</a>'\n",
              "            + ' to learn more about interactive tables.';\n",
              "          element.innerHTML = '';\n",
              "          dataTable['output_type'] = 'display_data';\n",
              "          await google.colab.output.renderOutput(dataTable, element);\n",
              "          const docLink = document.createElement('div');\n",
              "          docLink.innerHTML = docLinkHtml;\n",
              "          element.appendChild(docLink);\n",
              "        }\n",
              "      </script>\n",
              "    </div>\n",
              "  </div>\n",
              "  "
            ]
          },
          "metadata": {},
          "execution_count": 8
        }
      ],
      "source": [
        "test.head(5)"
      ]
    },
    {
      "cell_type": "code",
      "execution_count": 9,
      "metadata": {
        "id": "ZcbOoPvRnGPp"
      },
      "outputs": [],
      "source": [
        "news = pd.concat([train, test], ignore_index=True, sort=False)"
      ]
    },
    {
      "cell_type": "code",
      "execution_count": 10,
      "metadata": {
        "colab": {
          "base_uri": "https://localhost:8080/"
        },
        "id": "9ZgquVOmC8hz",
        "outputId": "5db9d80e-85f3-4158-c5c7-869f0b7a41a7"
      },
      "outputs": [
        {
          "output_type": "execute_result",
          "data": {
            "text/plain": [
              "(333260, 2)"
            ]
          },
          "metadata": {},
          "execution_count": 10
        }
      ],
      "source": [
        "news.shape"
      ]
    },
    {
      "cell_type": "markdown",
      "metadata": {
        "id": "oEnvEYxgxvOS"
      },
      "source": [
        "### Cleaning"
      ]
    },
    {
      "cell_type": "code",
      "execution_count": null,
      "metadata": {
        "id": "UN3pXFKE18Qf"
      },
      "outputs": [],
      "source": [
        "import re\n",
        "def remove_emojis(data):\n",
        "    emoj = re.compile(\"[\"\n",
        "        u\"\\U0001F600-\\U0001F64F\"  # emoticons\n",
        "        u\"\\U0001F300-\\U0001F5FF\"  # symbols & pictographs\n",
        "        u\"\\U0001F680-\\U0001F6FF\"  # transport & map symbols\n",
        "        u\"\\U0001F1E0-\\U0001F1FF\"  # flags (iOS)\n",
        "        u\"\\U00002500-\\U00002BEF\"  # chinese char\n",
        "        u\"\\U00002702-\\U000027B0\"\n",
        "        u\"\\U00002702-\\U000027B0\"\n",
        "        u\"\\U000024C2-\\U0001F251\"\n",
        "        u\"\\U0001f926-\\U0001f937\"\n",
        "        u\"\\U00010000-\\U0010ffff\"\n",
        "        u\"\\u2640-\\u2642\" \n",
        "        u\"\\u2600-\\u2B55\"\n",
        "        u\"\\u200d\"\n",
        "        u\"\\u23cf\"\n",
        "        u\"\\u23e9\"\n",
        "        u\"\\u231a\"\n",
        "        u\"\\ufe0f\"  # dingbats\n",
        "        u\"\\u3030\"\n",
        "                      \"]+\", re.UNICODE)\n",
        "    return re.sub(emoj, ' ', data)\n",
        "\n",
        "def preprocess_tokenize(text):\n",
        "      # for removing punctuation from sentencesc\n",
        "    text = str(text)\n",
        "    text = re.sub(r'(\\d+)', r'', text)\n",
        "    \n",
        "    text = text.replace('\\n', ' ')\n",
        "    text = text.replace('\\r', ' ')\n",
        "    text = text.replace('\\t', ' ')\n",
        "    text = text.replace('\\u200d', '')\n",
        "    text=re.sub(\"(__+)\", ' ', str(text)).lower()   #remove _ if it occors more than one time consecutively\n",
        "    text=re.sub(\"(--+)\", ' ', str(text)).lower()   #remove - if it occors more than one time consecutively\n",
        "    text=re.sub(\"(~~+)\", ' ', str(text)).lower()   #remove ~ if it occors more than one time consecutively\n",
        "    text=re.sub(\"(\\+\\++)\", ' ', str(text)).lower()   #remove + if it occors more than one time consecutively\n",
        "    text=re.sub(\"(\\.\\.+)\", ' ', str(text)).lower()   #remove . if it occors more than one time consecutively\n",
        "    text=re.sub(r\"[<>()|&©@#ø\\[\\]\\'\\\",;:?.~*!]\", ' ', str(text)).lower() #remove <>()|&©ø\"',;?~*!\n",
        "    text = re.sub(r\"[‘’।:]\", \" \", str(text)) #removing other special characters\n",
        "    text = re.sub(\"([a-zA-Z])\",' ',str(text)).lower()\n",
        "    text = re.sub(\"(\\s+)\",' ',str(text)).lower()\n",
        "    text = remove_emojis(text)\n",
        "    return text\n"
      ]
    },
    {
      "cell_type": "code",
      "execution_count": null,
      "metadata": {
        "id": "vktOAFhA0rTY"
      },
      "outputs": [],
      "source": [
        "train_data_trg = news['headline']\n",
        "train_data_src = news['article']"
      ]
    },
    {
      "cell_type": "code",
      "execution_count": null,
      "metadata": {
        "id": "8bIq8jkh09z_"
      },
      "outputs": [],
      "source": [
        "tokenized_corpus_trg = [preprocess_tokenize(x) for x in train_data_trg]  #these are headlines\n",
        "tokenized_corpus_src = [preprocess_tokenize(x) for x in train_data_src]  #these are articles"
      ]
    },
    {
      "cell_type": "code",
      "execution_count": null,
      "metadata": {
        "colab": {
          "base_uri": "https://localhost:8080/"
        },
        "id": "UcAIeAle0_OP",
        "outputId": "5c204f72-e7a9-49dd-8cc6-e2cb94be6edd"
      },
      "outputs": [
        {
          "output_type": "execute_result",
          "data": {
            "text/plain": [
              "'जॉर्डन के ऐतिहासिक दौरे पर पहुंचे राष्ट्रपति प्रणब मुखर्जी ने करोड़ डॉलर की लागत से निर्मित भारत-जॉर्डन उवर्रक संयंत्र का जॉर्डन के शाह अब्दुल्ला द्वितीय इब्न अल हुसैन के साथ उद्घाटन किया यह संयंत्र एक साल से कम समय में बनकर तैयार हुआ है राष्ट्रपति मुखर्जी के यहां एयर इंडिया की उड़ान से दोपहर पहुंचने के कुछ देर बाद ही शाह के महल से इस संयंत्र का रिमोट के जरिए उद्घाटन किया गया अधिकारियों ने बताया कि भारतीय उर्वरक कंपनी इफको और जॉर्डन के फास्फेट्स माइन कंपनी ने इस संयंत्र के लिए में एक संयुक्त उद्यम कंपनी जॉर्डन इंडिया फर्टिलाइजर कंपनी बनाया संयुक्त उद्यम में इफको की हिस्सेदारी प्रतिशत है इस संयंत्र से प्रति वर्ष करोड़ टन सल्फ्यूरिक एसिड और करोड़ टन फास्फेरिक एसिड के उत्पादन का अनुमान है राष्ट्रपति का इससे पहले यहां पारंपरिक स्वागत किया गया और राष्ट्रपति भवन के सामने उन्हें तोपों की सलामी दी गई इसके बाद वह शाह अब्दुल्ला द्वितीय इब्न अल हुसैन के साथ वार्ता में व्यस्त हो गए वार्ता के बाद दोनों नेताओं ने इंडो-जर्मन उवर्रक संयंत्र का संयुक्त रूप से उद्घाटन किया इस संयंत्र से कच्चे माल का उत्पादन किया जाएगा इसमें फास्फोरिक एसिड और सल्फ्यूरिक एसिड प्रमुख हैं यहां पहुंचने से पहले राष्ट्रपति ने कहा दोनों देशों के क्षेत्रीय एवं अंतर्राष्ट्रीय मुद्दे मिलते-जुलते हैं और दोनों सीरिया के साथ ही मध्य पूर्व में शांति प्रक्रिया का समर्थन करते हैं उन्होंने कहा कि दोनों देश उग्रवाद और आतंकवाद के सभी रूपों की निदा करते हैं और धार्मिक सौहार्द्र में भरोसा करते हैं राष्ट्रपति के इस दौरे के दौरान व्यापार एवं निवेश पर भी जोर है उन्होंने कहा कि दोनों देश द्विपक्षीय व्यापार को पांच अरब डॉलर करना चाहते हैं अभी दोनों देशों के बीच व्यापार दो अरब डॉलर है प्रणब मुखर्जी ने जिस संयंत्र का उद्घाटन किया उससे भारत करोड़ टन फास्फोरिक एसिड का आयात करेगी भारत बड़ी मात्रा में पोटाश एवं फास्फेट जॉर्डन से हासिल करता है भारत और जॉर्डन ने में सामंजस्य के लिए द्विपक्षीय समझौते पर हस्ताक्षर किया था हालांकि इसे औपचारिक रूप में दिया गया जब पूर्ण कूटनीकि संबंध दोनों देश के बीच बने शाह अब्दुल्ला और बेगम रानिया ने अक्टूबर में भारत का दौरा किया था राष्ट्रपति के इस दौरे से पूर्व करीब साल पहले तत्कालीन प्रधानमंत्री राजीव गांधी ने इस देश का दौरा किया था इनपुट- '"
            ],
            "application/vnd.google.colaboratory.intrinsic+json": {
              "type": "string"
            }
          },
          "metadata": {},
          "execution_count": 15
        }
      ],
      "source": [
        "tokenized_corpus_src[1] #cleaned sentences"
      ]
    },
    {
      "cell_type": "markdown",
      "metadata": {
        "id": "7g7k7soMyBpQ"
      },
      "source": [
        "### Deciding max len and dictionary size"
      ]
    },
    {
      "cell_type": "code",
      "execution_count": null,
      "metadata": {
        "colab": {
          "base_uri": "https://localhost:8080/",
          "height": 350
        },
        "id": "wRks5E7I1UJI",
        "outputId": "94cc27c3-d6b8-4a1b-f6f6-0efe90d09fb9"
      },
      "outputs": [
        {
          "data": {
            "image/png": "[encoded data removed]",
            "text/plain": [
              "<Figure size 720x360 with 2 Axes>"
            ]
          },
          "metadata": {},
          "output_type": "display_data"
        }
      ],
      "source": [
        "import matplotlib.pyplot as plt\n",
        "\n",
        "text_word_count = []\n",
        "summary_word_count = []\n",
        "\n",
        "# populate the lists with sentence lengths\n",
        "for i in tokenized_corpus_src[:train.shape[0]]:\n",
        "      text_word_count.append(len(i.split()))\n",
        "\n",
        "for i in tokenized_corpus_trg[:train.shape[0]]:\n",
        "      summary_word_count.append(len(i.split()))\n",
        "\n",
        "fig , ax = plt.subplots(1,2)\n",
        "fig.set_size_inches(10,5)\n",
        "ax[0].hist(text_word_count, bins=25, range=[0, 1000])\n",
        "ax[1].hist(summary_word_count, bins=25, range=[0, 100])\n",
        "ax[0].set_xlabel(\"No. of words in Text\")\n",
        "ax[0].set_ylabel(\"Frequency\")\n",
        "ax[1].set_xlabel(\"No. of words in Summary\")\n",
        "ax[1].set_ylabel(\"Frequency\")\n",
        "ax[0].set_title('Distribution of training data')\n",
        "plt.show()"
      ]
    },
    {
      "cell_type": "code",
      "execution_count": null,
      "metadata": {
        "colab": {
          "base_uri": "https://localhost:8080/",
          "height": 350
        },
        "id": "H8N750Lg6ePt",
        "outputId": "aa834cbd-d168-4a34-c438-ffc873e6ccd2"
      },
      "outputs": [
        {
          "data": {
            "image/png": "[encoded data removed]",
            "text/plain": [
              "<Figure size 720x360 with 2 Axes>"
            ]
          },
          "metadata": {},
          "output_type": "display_data"
        }
      ],
      "source": [
        "for i in tokenized_corpus_src[:-test.shape[0]]:\n",
        "      text_word_count.append(len(i.split()))\n",
        "\n",
        "for i in tokenized_corpus_trg[:-test.shape[0]]:\n",
        "      summary_word_count.append(len(i.split()))\n",
        "\n",
        "fig , ax = plt.subplots(1,2)\n",
        "fig.set_size_inches(10,5)\n",
        "ax[0].hist(text_word_count, bins=25, range=[0, 1000])\n",
        "ax[1].hist(summary_word_count, bins=25, range=[0, 100])\n",
        "ax[0].set_xlabel(\"No. of words in Text\")\n",
        "ax[0].set_ylabel(\"Frequency\")\n",
        "ax[1].set_xlabel(\"No. of words in Summary\")\n",
        "ax[1].set_ylabel(\"Frequency\")\n",
        "ax[0].set_title('Distribution of Testing data')\n",
        "plt.show()"
      ]
    },
    {
      "cell_type": "code",
      "execution_count": null,
      "metadata": {
        "colab": {
          "base_uri": "https://localhost:8080/"
        },
        "id": "fx80oeV91e-B",
        "outputId": "34ddd93e-2375-4ba2-9e9b-1734b071ffe2"
      },
      "outputs": [
        {
          "name": "stdout",
          "output_type": "stream",
          "text": [
            "::::: Text_Cleaned :::::\n",
            "0    दिल्ली में सुप्रीम कोर्ट के डीज़ल टैक्सियों को...\n",
            "1    जॉर्डन के ऐतिहासिक दौरे पर पहुंचे राष्ट्रपति प...\n",
            "2    पाकिस्तानी नेताओं को विवादित और हास्यास्पद बया...\n",
            "3    पीएम नरेंद्र मोदी बायोपिक में विवेक ओबेरॉय ने ...\n",
            "4    देश दुनिया महानगर खेल आर्थिक और बॉलीवुड में क्...\n",
            "Name: Text_Cleaned, dtype: object \n",
            "\n",
            "::::: Summary :::::\n",
            "0     दिल्ली में डीजल टैक्सियों पर बैन से मुश्किल म...\n",
            "1    जॉर्डन राष्ट्रपति मुखर्जी ने करोड़ डॉलर के संय...\n",
            "2     में पाकिस्तान की राजदूत मलीहा लोधी ने कराई फज...\n",
            "3     देशों में पीएम नरेंद्र मोदी बायोपिक को रिलीज ...\n",
            "4                      अगस्त दिनभर की बड़ी खबरें पढ़ें\n",
            "Name: Summary_Cleaned, dtype: object \n",
            "\n"
          ]
        }
      ],
      "source": [
        "news['Text_Cleaned'] = tokenized_corpus_src  \n",
        "print(\"::::: Text_Cleaned :::::\")\n",
        "print(news['Text_Cleaned'][0:5], \"\\n\")\n",
        "\n",
        "\n",
        "news['Summary_Cleaned'] =  tokenized_corpus_trg \n",
        "print(\"::::: Summary :::::\")\n",
        "print(news['Summary_Cleaned'][0:5], \"\\n\")\n",
        "\n",
        "corpus = list(news['Text_Cleaned'])\n"
      ]
    },
    {
      "cell_type": "code",
      "execution_count": null,
      "metadata": {
        "id": "5yvUrDGQ25z1"
      },
      "outputs": [],
      "source": [
        "text_count = []\n",
        "summary_count = []\n",
        "\n",
        "for sent in news['Text_Cleaned']:\n",
        "    text_count.append(len(sent.split()))\n",
        "for sent in news['Summary_Cleaned']:\n",
        "    summary_count.append(len(sent.split()))\n",
        "\n",
        "graph_df = pd.DataFrame()\n",
        "graph_df['text'] = text_count\n",
        "graph_df['summary'] = summary_count"
      ]
    },
    {
      "cell_type": "code",
      "execution_count": null,
      "metadata": {
        "colab": {
          "base_uri": "https://localhost:8080/"
        },
        "id": "PoQEg3gb2_9E",
        "outputId": "0f3919db-249d-4a97-fa97-4c1efee662dc"
      },
      "outputs": [
        {
          "data": {
            "text/plain": [
              "count    333260.000000\n",
              "mean        348.910493\n",
              "std         314.028859\n",
              "min           0.000000\n",
              "25%         197.000000\n",
              "50%         282.000000\n",
              "75%         399.000000\n",
              "max       15089.000000\n",
              "Name: text, dtype: float64"
            ]
          },
          "execution_count": 33,
          "metadata": {},
          "output_type": "execute_result"
        }
      ],
      "source": [
        "graph_df['text'].describe()"
      ]
    },
    {
      "cell_type": "code",
      "execution_count": null,
      "metadata": {
        "colab": {
          "base_uri": "https://localhost:8080/"
        },
        "id": "ikYNF9wh3FtH",
        "outputId": "f5ae86e9-f9d4-4801-e7c2-1c148e289b22"
      },
      "outputs": [
        {
          "data": {
            "text/plain": [
              "count    333260.000000\n",
              "mean         10.842576\n",
              "std           3.001873\n",
              "min           0.000000\n",
              "25%           9.000000\n",
              "50%          11.000000\n",
              "75%          13.000000\n",
              "max         162.000000\n",
              "Name: summary, dtype: float64"
            ]
          },
          "execution_count": 34,
          "metadata": {},
          "output_type": "execute_result"
        }
      ],
      "source": [
        "graph_df['summary'].describe()\n"
      ]
    },
    {
      "cell_type": "code",
      "execution_count": null,
      "metadata": {
        "colab": {
          "base_uri": "https://localhost:8080/",
          "height": 265
        },
        "id": "jubcT55k3OYb",
        "outputId": "31bdf0da-82cf-4364-85a2-d7dd17f70c14"
      },
      "outputs": [
        {
          "data": {
            "image/png": "[encoded data removed]",
            "text/plain": [
              "<Figure size 432x288 with 1 Axes>"
            ]
          },
          "metadata": {},
          "output_type": "display_data"
        }
      ],
      "source": [
        "graph_df['text'].hist(bins = 25, range=(0, 300))\n",
        "plt.show()\n"
      ]
    },
    {
      "cell_type": "code",
      "execution_count": null,
      "metadata": {
        "colab": {
          "base_uri": "https://localhost:8080/",
          "height": 265
        },
        "id": "Rbb2zU523UvI",
        "outputId": "ad8ee58a-57de-4077-9b90-4a5dbdc50db8"
      },
      "outputs": [
        {
          "data": {
            "image/png": "[encoded data removed]",
            "text/plain": [
              "<Figure size 432x288 with 1 Axes>"
            ]
          },
          "metadata": {},
          "output_type": "display_data"
        }
      ],
      "source": [
        "graph_df['summary'].hist(bins = 15, range=(0, 20))\n",
        "plt.show()\n"
      ]
    },
    {
      "cell_type": "code",
      "execution_count": null,
      "metadata": {
        "colab": {
          "base_uri": "https://localhost:8080/"
        },
        "id": "k6jbgjJ03aP1",
        "outputId": "cbaf25b4-fd1a-4edb-c3ac-2a501ca3bc31"
      },
      "outputs": [
        {
          "name": "stdout",
          "output_type": "stream",
          "text": [
            "0.5509842165276361\n"
          ]
        }
      ],
      "source": [
        "count = 0\n",
        "for i in graph_df['text']:\n",
        "    if i > 10 and i <= 300:\n",
        "        count = count + 1\n",
        "print(count / len(graph_df['text']))\n"
      ]
    },
    {
      "cell_type": "code",
      "execution_count": null,
      "metadata": {
        "colab": {
          "base_uri": "https://localhost:8080/"
        },
        "id": "3n8lE86g3dVp",
        "outputId": "22a6c81a-899b-456f-99b4-d113ddabae57"
      },
      "outputs": [
        {
          "name": "stdout",
          "output_type": "stream",
          "text": [
            "0.9994118706115346\n"
          ]
        }
      ],
      "source": [
        "count = 0\n",
        "for i in graph_df['summary']:\n",
        "    if i > 1 and i <= 20:\n",
        "        count = count + 1\n",
        "print(count / len(graph_df['summary']))"
      ]
    },
    {
      "cell_type": "code",
      "execution_count": null,
      "metadata": {
        "id": "sKVyb0_I3hz6"
      },
      "outputs": [],
      "source": [
        "max_text_len = 300\n",
        "max_summary_len = 16\n"
      ]
    },
    {
      "cell_type": "code",
      "execution_count": null,
      "metadata": {
        "id": "2KPtuQ263pWr"
      },
      "outputs": [],
      "source": [
        "cleaned_text = np.array(news['Text_Cleaned'])\n",
        "cleaned_summary = np.array(news['Summary_Cleaned'])\n",
        "\n",
        "short_text = []\n",
        "short_summary = []\n",
        "\n",
        "for i in range(len(cleaned_text)):\n",
        "    if(len(cleaned_summary[i].split()) <= max_summary_len \n",
        "       and len(cleaned_summary[i].split()) > 1 \n",
        "       and len(cleaned_text[i].split()) <= max_text_len):\n",
        "        short_text.append(cleaned_text[i])\n",
        "        short_summary.append(cleaned_summary[i])\n",
        "    elif((len(cleaned_summary[i].split()) > max_summary_len) or (len(cleaned_text[i].split()) > max_text_len)):\n",
        "        summ = cleaned_summary[i].split()\n",
        "        txt = cleaned_text[i].split()\n",
        "        if(len(summ)>max_summary_len):\n",
        "          short_summary.append(' '.join(summ[:max_summary_len]))\n",
        "        else:\n",
        "          short_summary.append(cleaned_summary[i])\n",
        "        if(len(txt)>max_text_len):\n",
        "          short_text.append(' '.join(txt[:max_text_len]))\n",
        "        else:\n",
        "          short_text.append(cleaned_text[i]) \n",
        "    \n",
        "post_pre = pd.DataFrame({'text':short_text,'summary':short_summary})"
      ]
    },
    {
      "cell_type": "code",
      "execution_count": null,
      "metadata": {
        "id": "YO4gf-0J3uMl"
      },
      "outputs": [],
      "source": [
        "post_pre['summary'] = post_pre['summary'].apply(lambda x : 'sostok '+ x + ' eostok')\n",
        "post_pre['text'] = post_pre['text'].apply(lambda x: 'sostok ' + x + ' eostok')"
      ]
    },
    {
      "cell_type": "code",
      "execution_count": null,
      "metadata": {
        "colab": {
          "base_uri": "https://localhost:8080/"
        },
        "id": "PkEfUcfK3z8f",
        "outputId": "28f1c910-0f44-4ed2-c27e-85a5b16e195b"
      },
      "outputs": [
        {
          "data": {
            "text/plain": [
              "(333143, 2)"
            ]
          },
          "execution_count": 42,
          "metadata": {},
          "output_type": "execute_result"
        }
      ],
      "source": [
        "post_pre.shape"
      ]
    },
    {
      "cell_type": "code",
      "execution_count": null,
      "metadata": {
        "colab": {
          "base_uri": "https://localhost:8080/"
        },
        "id": "QLjXenrh33bJ",
        "outputId": "242a0edf-15b8-42a3-d64a-4aca958efcca"
      },
      "outputs": [
        {
          "name": "stdout",
          "output_type": "stream",
          "text": [
            "cleaned text's size  (333143,)\n",
            "cleaned summary's size  (333143,)\n"
          ]
        }
      ],
      "source": [
        "cleaned_summary = np.array(post_pre['summary'])\n",
        "cleaned_text = np.array(post_pre['text'])\n",
        "print(\"cleaned text's size \",cleaned_text.shape)\n",
        "print(\"cleaned summary's size \",cleaned_summary.shape)"
      ]
    },
    {
      "cell_type": "markdown",
      "metadata": {
        "id": "Td7_wzZZyH0K"
      },
      "source": [
        "### Tokenizer and Padding"
      ]
    },
    {
      "cell_type": "code",
      "execution_count": null,
      "metadata": {
        "id": "Xrr2qffo-Q--"
      },
      "outputs": [],
      "source": [
        "from keras.preprocessing.text import Tokenizer \n",
        "from keras.preprocessing.sequence import pad_sequences"
      ]
    },
    {
      "cell_type": "code",
      "execution_count": null,
      "metadata": {
        "id": "QH8XCxHB-jMj"
      },
      "outputs": [],
      "source": [
        "#Tokenize text to get the vocab count\n",
        "#prepare a tokenizer for training data\n",
        "text_tokenizer = Tokenizer() \n",
        "text_tokenizer.fit_on_texts(list(cleaned_text))\n",
        "\n",
        "#prepare a tokenizer for reviews on training data\n",
        "summary_tokenizer = Tokenizer()   \n",
        "summary_tokenizer.fit_on_texts(list(cleaned_summary))"
      ]
    },
    {
      "cell_type": "code",
      "execution_count": null,
      "metadata": {
        "colab": {
          "base_uri": "https://localhost:8080/"
        },
        "id": "J-2pwY5G_xgW",
        "outputId": "bea0c779-17af-4b44-9804-f280748900b2"
      },
      "outputs": [
        {
          "name": "stdout",
          "output_type": "stream",
          "text": [
            "{'“याचिकाकर्ता': 221385, 'केशवचन्द्र': 158522, 'रामधनु': 126226, 'एंग': 94482, 'बर्टोलूसी': 208227, 'मतांजिमा': 277157, 'बाहडेई': 353641, 'मुस्लीमानी': 293851, 'टीएटी': 321408, 'हबाईपुर': 207593}\n"
          ]
        }
      ],
      "source": [
        "vocab = text_tokenizer.word_index\n",
        "import random\n",
        "def sample_from_dict(d, sample=10):\n",
        "    keys = random.sample(list(d), sample)\n",
        "    values = [d[k] for k in keys]\n",
        "    return dict(zip(keys, values))\n",
        "\n",
        "print(sample_from_dict(vocab))"
      ]
    },
    {
      "cell_type": "code",
      "execution_count": null,
      "metadata": {
        "colab": {
          "base_uri": "https://localhost:8080/"
        },
        "id": "kNPUJiel379i",
        "outputId": "4ce30229-5e98-473e-f3fa-41595b36c8f1"
      },
      "outputs": [
        {
          "data": {
            "text/plain": [
              "353646"
            ]
          },
          "execution_count": 47,
          "metadata": {},
          "output_type": "execute_result"
        }
      ],
      "source": [
        "len(vocab)"
      ]
    },
    {
      "cell_type": "code",
      "execution_count": null,
      "metadata": {
        "colab": {
          "base_uri": "https://localhost:8080/"
        },
        "id": "mR6KfrRUAuMG",
        "outputId": "cb70c677-6723-4cd7-fa3c-1651cf26e1d2"
      },
      "outputs": [
        {
          "name": "stdout",
          "output_type": "stream",
          "text": [
            "% of rare words in vocabulary: 68.68167602630879\n",
            "Total Coverage of rare words: 0.41351097036187695\n"
          ]
        }
      ],
      "source": [
        "thresh=4\n",
        "\n",
        "cnt=0\n",
        "tot_cnt=0\n",
        "freq=0\n",
        "tot_freq=0\n",
        "\n",
        "for key,value in text_tokenizer.word_counts.items():\n",
        "    tot_cnt=tot_cnt+1\n",
        "    tot_freq=tot_freq+value\n",
        "    if(value<thresh):\n",
        "        cnt=cnt+1\n",
        "        freq=freq+value\n",
        "    \n",
        "print(\"% of rare words in vocabulary:\",(cnt/tot_cnt)*100)\n",
        "print(\"Total Coverage of rare words:\",(freq/tot_freq)*100)\n"
      ]
    },
    {
      "cell_type": "code",
      "execution_count": null,
      "metadata": {
        "colab": {
          "base_uri": "https://localhost:8080/"
        },
        "id": "CcKsljAwB0kM",
        "outputId": "04f5eecc-ac46-4b00-d29a-a5c5b0c0a98e"
      },
      "outputs": [
        {
          "name": "stdout",
          "output_type": "stream",
          "text": [
            "Size of vocabulary in text = 110757\n"
          ]
        }
      ],
      "source": [
        "# #prepare a tokenizer for reviews on training data\n",
        "text_tokenizer = Tokenizer(num_words = tot_cnt - cnt) \n",
        "text_tokenizer.fit_on_texts(list(cleaned_text))\n",
        "\n",
        "#convert text sequences into integer sequences (i.e one-hot encodeing all the words)\n",
        "text__seq    =   text_tokenizer.texts_to_sequences(cleaned_text)\n",
        "#padding zero upto maximum length\n",
        "cleaned_text    =   pad_sequences(text__seq,  maxlen=max_text_len, padding='post')\n",
        "\n",
        "#size of vocabulary ( +1 for padding token)\n",
        "text_voc   =  text_tokenizer.num_words + 1\n",
        "\n",
        "print(\"Size of vocabulary in text = {}\".format(text_voc))"
      ]
    },
    {
      "cell_type": "code",
      "execution_count": null,
      "metadata": {
        "colab": {
          "base_uri": "https://localhost:8080/"
        },
        "id": "Jx6Xk8l2HKxc",
        "outputId": "dc41e8ae-707d-4eb5-ff1d-ef0003760624"
      },
      "outputs": [
        {
          "name": "stdout",
          "output_type": "stream",
          "text": [
            "% of rare words in vocabulary: 58.05363524028988\n",
            "Total Coverage of rare words: 1.1603857371100994\n"
          ]
        }
      ],
      "source": [
        "thresh=4\n",
        "\n",
        "cnt=0\n",
        "tot_cnt=0\n",
        "freq=0\n",
        "tot_freq=0\n",
        "\n",
        "for key,value in summary_tokenizer.word_counts.items():\n",
        "    tot_cnt=tot_cnt+1\n",
        "    tot_freq=tot_freq+value\n",
        "    if(value<thresh):\n",
        "        cnt=cnt+1\n",
        "        freq=freq+value\n",
        "    \n",
        "print(\"% of rare words in vocabulary:\",(cnt/tot_cnt)*100)\n",
        "print(\"Total Coverage of rare words:\",(freq/tot_freq)*100)"
      ]
    },
    {
      "cell_type": "code",
      "execution_count": null,
      "metadata": {
        "colab": {
          "base_uri": "https://localhost:8080/"
        },
        "id": "Ez9ZOpk7GuE7",
        "outputId": "9e0deca9-407c-4e83-be97-2507e44eda7b"
      },
      "outputs": [
        {
          "name": "stdout",
          "output_type": "stream",
          "text": [
            "Size of vocabulary in summary = 25121\n"
          ]
        }
      ],
      "source": [
        "#prepare a tokenizer for reviews on training data\n",
        "summary_tokenizer = Tokenizer(num_words = tot_cnt - cnt) \n",
        "summary_tokenizer.fit_on_texts(list(cleaned_summary))\n",
        "\n",
        "#convert text sequences into integer sequences (i.e one-hot encodeing all the words)\n",
        "summary__seq    =   summary_tokenizer.texts_to_sequences(cleaned_summary)\n",
        "#padding zero upto maximum length\n",
        "cleaned_summary    =   pad_sequences(summary__seq,  maxlen=max_summary_len, padding='post')\n",
        "\n",
        "#size of vocabulary ( +1 for padding token)\n",
        "summary_voc   =  summary_tokenizer.num_words + 1\n",
        "\n",
        "print(\"Size of vocabulary in summary = {}\".format(summary_voc))"
      ]
    },
    {
      "cell_type": "code",
      "execution_count": null,
      "metadata": {
        "colab": {
          "base_uri": "https://localhost:8080/"
        },
        "id": "URQqx2HBHTaS",
        "outputId": "c1dddbe6-bb83-40d3-bdf2-0ec1b8d25020"
      },
      "outputs": [
        {
          "data": {
            "text/plain": [
              "(333143, 333143)"
            ]
          },
          "execution_count": 52,
          "metadata": {},
          "output_type": "execute_result"
        }
      ],
      "source": [
        "summary_tokenizer.word_counts['sostok'],len(cleaned_summary)"
      ]
    },
    {
      "cell_type": "code",
      "execution_count": null,
      "metadata": {
        "id": "G6IQjt1W3JoJ"
      },
      "outputs": [],
      "source": [
        "import pickle\n",
        "\n",
        "with open(default_path+'text_tokenizer.pickle', 'wb') as handle:\n",
        "    pickle.dump(text_tokenizer, handle, protocol=pickle.HIGHEST_PROTOCOL)\n",
        "\n",
        "with open(default_path+'summary_tokenizer.pickle', 'wb') as handle:\n",
        "    pickle.dump(summary_tokenizer, handle, protocol=pickle.HIGHEST_PROTOCOL)\n"
      ]
    },
    {
      "cell_type": "code",
      "execution_count": null,
      "metadata": {
        "id": "w0ri_-I_HhbW"
      },
      "outputs": [],
      "source": [
        "ind=[]\n",
        "for i in range(len(cleaned_summary)):\n",
        "    cnt=0\n",
        "    for j in cleaned_summary[i]:\n",
        "        if j!=0:\n",
        "            cnt=cnt+1\n",
        "    if(cnt==2):\n",
        "        ind.append(i)\n",
        "\n",
        "cleaned_text = np.delete(cleaned_text, ind, axis=0)\n",
        "cleaned_summary = np.delete(cleaned_summary, ind, axis=0)"
      ]
    },
    {
      "cell_type": "code",
      "execution_count": null,
      "metadata": {
        "colab": {
          "base_uri": "https://localhost:8080/"
        },
        "id": "_0fJWmTj3YFk",
        "outputId": "5fe346b5-b01c-4c99-f302-41bb6b360b7b"
      },
      "outputs": [
        {
          "name": "stdout",
          "output_type": "stream",
          "text": [
            "cleaned text's size  (333130, 300)\n",
            "cleaned summary's size  (333130, 16)\n"
          ]
        }
      ],
      "source": [
        "print(\"cleaned text's size \",cleaned_text.shape)\n",
        "print(\"cleaned summary's size \",cleaned_summary.shape)"
      ]
    },
    {
      "cell_type": "code",
      "execution_count": null,
      "metadata": {
        "colab": {
          "base_uri": "https://localhost:8080/"
        },
        "id": "p2MuokRi48mI",
        "outputId": "d0ecb7fe-44ea-483a-92fc-663db2feb748"
      },
      "outputs": [
        {
          "data": {
            "text/plain": [
              "array([[   24,    56,     2, ...,     0,     0,     0],\n",
              "       [11094,     1,  1708, ...,   162,  3278,    25],\n",
              "       [   24,   580,   333, ...,     0,     0,     0],\n",
              "       ...,\n",
              "       [    6,   580,   665, ..., 18583,     8,    25],\n",
              "       [   24,  2442,  1083, ...,     0,     0,     0],\n",
              "       [   24,   310,     1, ...,     0,     0,     0]], dtype=int32)"
            ]
          },
          "execution_count": 56,
          "metadata": {},
          "output_type": "execute_result"
        }
      ],
      "source": [
        "cleaned_text"
      ]
    },
    {
      "cell_type": "code",
      "execution_count": null,
      "metadata": {
        "colab": {
          "base_uri": "https://localhost:8080/"
        },
        "id": "ZuPh_5IL7ITE",
        "outputId": "9118651a-4a97-46a0-8125-8fcf4d83de16"
      },
      "outputs": [
        {
          "data": {
            "text/plain": [
              "array([[    1,    21,     3, ...,     2,     0,     0],\n",
              "       [    1,  9770,   206, ...,     0,     0,     0],\n",
              "       [    1,     3,    68, ...,     2,     0,     0],\n",
              "       ...,\n",
              "       [    1,    68,     9, ...,     0,     0,     0],\n",
              "       [   94,    23,    12, ..., 17783, 11079,     2],\n",
              "       [    1,     4,    26, ...,     2,     0,     0]], dtype=int32)"
            ]
          },
          "execution_count": 57,
          "metadata": {},
          "output_type": "execute_result"
        }
      ],
      "source": [
        "cleaned_summary"
      ]
    },
    {
      "cell_type": "markdown",
      "metadata": {
        "id": "9mBMOlMy6wR6"
      },
      "source": [
        "### Saving Final Input Text"
      ]
    },
    {
      "cell_type": "code",
      "execution_count": null,
      "metadata": {
        "id": "pL1QJgb96svJ"
      },
      "outputs": [],
      "source": [
        "with open(default_path+'cleaned_text.pickle', 'wb') as handle:\n",
        "    pickle.dump(cleaned_text, handle, protocol=pickle.HIGHEST_PROTOCOL)\n",
        "\n",
        "with open(default_path+'cleaned_summary.pickle', 'wb') as handle:\n",
        "    pickle.dump(cleaned_summary, handle, protocol=pickle.HIGHEST_PROTOCOL)"
      ]
    },
    {
      "cell_type": "markdown",
      "metadata": {
        "id": "xP44gjHSx8U_"
      },
      "source": [
        "### Embedding Space"
      ]
    },
    {
      "cell_type": "code",
      "execution_count": null,
      "metadata": {
        "colab": {
          "base_uri": "https://localhost:8080/"
        },
        "id": "bRvaKAo0l93y",
        "outputId": "0bb731d5-3184-4369-bf24-6a143f7861cc"
      },
      "outputs": [
        {
          "name": "stdout",
          "output_type": "stream",
          "text": [
            "Looking in indexes: https://pypi.org/simple, https://us-python.pkg.dev/colab-wheels/public/simple/\n",
            "Collecting fasttext\n",
            "  Downloading fasttext-0.9.2.tar.gz (68 kB)\n",
            "\u001b[K     |████████████████████████████████| 68 kB 3.0 MB/s \n",
            "\u001b[?25hCollecting pybind11>=2.2\n",
            "  Using cached pybind11-2.9.2-py2.py3-none-any.whl (213 kB)\n",
            "Requirement already satisfied: setuptools>=0.7.0 in /usr/local/lib/python3.7/dist-packages (from fasttext) (57.4.0)\n",
            "Requirement already satisfied: numpy in /usr/local/lib/python3.7/dist-packages (from fasttext) (1.21.6)\n",
            "Building wheels for collected packages: fasttext\n",
            "  Building wheel for fasttext (setup.py) ... \u001b[?25l\u001b[?25hdone\n",
            "  Created wheel for fasttext: filename=fasttext-0.9.2-cp37-cp37m-linux_x86_64.whl size=3145175 sha256=bfc82251de90f7ed268ed54b54ca7b1077f3f37e407b5f27071ce05fff6c959d\n",
            "  Stored in directory: /root/.cache/pip/wheels/4e/ca/bf/b020d2be95f7641801a6597a29c8f4f19e38f9c02a345bab9b\n",
            "Successfully built fasttext\n",
            "Installing collected packages: pybind11, fasttext\n",
            "Successfully installed fasttext-0.9.2 pybind11-2.9.2\n"
          ]
        }
      ],
      "source": [
        "!pip install fasttext"
      ]
    },
    {
      "cell_type": "code",
      "execution_count": null,
      "metadata": {
        "id": "saN0iEShoNzP"
      },
      "outputs": [],
      "source": [
        "import fasttext.util"
      ]
    },
    {
      "cell_type": "code",
      "execution_count": null,
      "metadata": {
        "id": "1vjJw6w5wY_e"
      },
      "outputs": [],
      "source": [
        "#fasttext.util.download_model('hi', if_exists='ignore')  # Hindi"
      ]
    },
    {
      "cell_type": "code",
      "execution_count": null,
      "metadata": {
        "colab": {
          "base_uri": "https://localhost:8080/"
        },
        "id": "zz9kFK6Hvzao",
        "outputId": "f775eee3-8a14-4f10-ea46-d36414dffd58"
      },
      "outputs": [
        {
          "name": "stderr",
          "output_type": "stream",
          "text": [
            "Warning : `load_model` does not return WordVectorModel or SupervisedModel any more, but a `FastText` object which is very similar.\n"
          ]
        }
      ],
      "source": [
        "ft = fasttext.load_model(default_path+'cc.hi.300.bin')"
      ]
    },
    {
      "cell_type": "code",
      "execution_count": null,
      "metadata": {
        "colab": {
          "base_uri": "https://localhost:8080/"
        },
        "id": "tPjpXAG5wMm8",
        "outputId": "329e7859-d348-45e4-f8a2-360ba113718a"
      },
      "outputs": [
        {
          "name": "stdout",
          "output_type": "stream",
          "text": [
            "Embedding vector shape is 300\n"
          ]
        }
      ],
      "source": [
        "word = \"नृत्य\"\n",
        "print(\"Embedding vector shape is {}\".format(ft.get_word_vector(word).shape[0]))"
      ]
    },
    {
      "cell_type": "markdown",
      "metadata": {
        "id": "V6_ZUkajyZR2"
      },
      "source": [
        "### Embedding Matrix - Get Vectors"
      ]
    },
    {
      "cell_type": "code",
      "execution_count": null,
      "metadata": {
        "id": "Vrbxj9G9yY1e"
      },
      "outputs": [],
      "source": [
        "def create_weight_matrix(model, DICT_SIZE, tokenizer):\n",
        "  '''\n",
        "  Accepts word embedding model\n",
        "  and the second model, if provided\n",
        "  Returns weight matrix of size m*n, where\n",
        "  m - size of the dictionary\n",
        "  n - size of the word embedding vector\n",
        "\n",
        "  '''\n",
        "  vector_size = model.get_word_vector(\"नृत्य\").shape[0]\n",
        "  w_matrix = np.zeros((DICT_SIZE, vector_size))\n",
        "  unk_words = []\n",
        "  text_words = []\n",
        "  for word, index in tokenizer.word_index.items():\n",
        "    if index < DICT_SIZE:\n",
        "      if word in model.words: \n",
        "        w_matrix[index] = model.get_word_vector(word)\n",
        "        text_words.append(word)\n",
        "      else:\n",
        "        w_matrix[index] = np.random.rand(1, vector_size)\n",
        "        unk_words.append(word)\n",
        "        \n",
        "  \n",
        "  print('{} words were considered as they were found in embedding space:'.format(len(text_words)))\n",
        "  print('{} are some such words'.format(text_words[:10]))\n",
        "  print()  \n",
        "  print('{} words were randomly alloted as they were not found in embedding space:'.format(len(unk_words)))\n",
        "  print('{} are some such words'.format(unk_words[:10]))\n",
        "\n",
        "  return w_matrix"
      ]
    },
    {
      "cell_type": "code",
      "execution_count": null,
      "metadata": {
        "colab": {
          "background_save": true
        },
        "id": "41UFCTW_yctB",
        "outputId": "9a40842d-289d-44e0-b19b-6002c7cd19c5"
      },
      "outputs": [
        {
          "name": "stdout",
          "output_type": "stream",
          "text": [
            "101084 words were considered as they were found in embedding space:\n",
            "['के', 'में', 'है', 'की', 'को', 'ने', 'से', 'और', 'का', 'पर'] are some such words\n",
            "\n",
            "9672 words were randomly alloted as they were not found in embedding space:\n",
            "['sostok', 'eostok', 'सिंबा', 'जेजेपी', 'एयरस्ट्राइक', 'रियलमी', 'इनपुटः', 'मीटू', 'एनालिटिका', 'आर्काइव्ड'] are some such words\n"
          ]
        }
      ],
      "source": [
        "text_matrix = create_weight_matrix(ft, text_voc, text_tokenizer)"
      ]
    },
    {
      "cell_type": "code",
      "execution_count": null,
      "metadata": {
        "colab": {
          "background_save": true
        },
        "id": "HqnYKxuBvG4L",
        "outputId": "3d14ca9f-191d-44b4-b186-4de587d84e83"
      },
      "outputs": [
        {
          "name": "stdout",
          "output_type": "stream",
          "text": [
            "24917 words were considered as they were found in embedding space:\n",
            "['में', 'के', 'की', 'का', 'ने', 'से', 'को', 'पर', 'है', 'नहीं'] are some such words\n",
            "\n",
            "203 words were randomly alloted as they were not found in embedding space:\n",
            "['sostok', 'eostok', 'एयरस्ट्राइक', 'दीपवीर', 'सिंबा', 'फरीदाबादः', 'रसूखदारः', 'ओडिशाः', 'मिजाजः', 'तेलंगानाः'] are some such words\n"
          ]
        }
      ],
      "source": [
        "summ_matrix = create_weight_matrix(ft, summary_voc, summary_tokenizer)"
      ]
    },
    {
      "cell_type": "markdown",
      "metadata": {
        "id": "Knr120_e3LEZ"
      },
      "source": [
        "### Saving Embedding Matrices"
      ]
    },
    {
      "cell_type": "code",
      "execution_count": null,
      "metadata": {
        "colab": {
          "background_save": true
        },
        "id": "7ejdQ-tM0jE2"
      },
      "outputs": [],
      "source": [
        "with open(default_path+'text_matrix.pickle', 'wb') as handle:\n",
        "    pickle.dump(text_matrix, handle, protocol=pickle.HIGHEST_PROTOCOL)\n",
        "\n",
        "with open(default_path+'summ_matrix.pickle', 'wb') as handle:\n",
        "    pickle.dump(summ_matrix, handle, protocol=pickle.HIGHEST_PROTOCOL)\n"
      ]
    },
    {
      "cell_type": "markdown",
      "metadata": {
        "id": "vFf9ANuoqS7B"
      },
      "source": [
        "### Model"
      ]
    },
    {
      "cell_type": "code",
      "execution_count": 12,
      "metadata": {
        "id": "Zbxhyl_zFlWL"
      },
      "outputs": [],
      "source": [
        "import pandas as pd\n",
        "import numpy as np\n",
        "import tensorflow as tf\n",
        "import keras\n",
        "import time\n",
        "import re\n",
        "import pickle\n",
        "import matplotlib.pyplot as plt "
      ]
    },
    {
      "cell_type": "markdown",
      "metadata": {
        "id": "yH5cg5pSIHaZ"
      },
      "source": [
        "### Loading Cleaned Dataset"
      ]
    },
    {
      "cell_type": "code",
      "execution_count": 11,
      "metadata": {
        "id": "slZ5f4P4DurS"
      },
      "outputs": [],
      "source": [
        "BUFFER_SIZE = 20000\n",
        "BATCH_SIZE = 64"
      ]
    },
    {
      "cell_type": "code",
      "execution_count": 13,
      "metadata": {
        "id": "aF1bqvLy7BQ-"
      },
      "outputs": [],
      "source": [
        "with open(default_path+'cleaned_text.pickle', 'rb') as handle:\n",
        "    cleaned_text = pickle.load(handle)\n",
        "with open(default_path+'cleaned_summary.pickle', 'rb') as handle:\n",
        "    cleaned_summary = pickle.load(handle)"
      ]
    },
    {
      "cell_type": "code",
      "source": [
        "cleaned_text.shape"
      ],
      "metadata": {
        "colab": {
          "base_uri": "https://localhost:8080/"
        },
        "id": "fT9kdiFOWjzr",
        "outputId": "cb1a9a35-be28-404c-9f68-6fecd8a60c17"
      },
      "execution_count": 14,
      "outputs": [
        {
          "output_type": "execute_result",
          "data": {
            "text/plain": [
              "(86629, 300)"
            ]
          },
          "metadata": {},
          "execution_count": 14
        }
      ]
    },
    {
      "cell_type": "markdown",
      "metadata": {
        "id": "kDGbc5KEtBDw"
      },
      "source": [
        "#### Train Test Split"
      ]
    },
    {
      "cell_type": "code",
      "execution_count": 15,
      "metadata": {
        "id": "hM-jngKwtAa4"
      },
      "outputs": [],
      "source": [
        "x_train, y_train = cleaned_text[:cleaned_text.shape[0]-test.shape[0], :], cleaned_summary[:cleaned_summary.shape[0]-test.shape[0], :]\n",
        "x_test, y_test = cleaned_text[:-test.shape[0], :], cleaned_summary[:-test.shape[0], :]"
      ]
    },
    {
      "cell_type": "code",
      "execution_count": 16,
      "metadata": {
        "id": "wI-fV7eABWN6"
      },
      "outputs": [],
      "source": [
        "dataset = tf.data.Dataset.from_tensor_slices((x_train, y_train)).shuffle(BUFFER_SIZE).batch(BATCH_SIZE)\n",
        "test_dataset = tf.data.Dataset.from_tensor_slices((x_test, y_test)).batch(BATCH_SIZE)"
      ]
    },
    {
      "cell_type": "markdown",
      "metadata": {
        "id": "isN1CpAXLfsl"
      },
      "source": [
        "### Positional Encoding for adding notion of position among words as unlike RNN this is non-directional"
      ]
    },
    {
      "cell_type": "code",
      "execution_count": 17,
      "metadata": {
        "id": "Purv7oyhETDZ"
      },
      "outputs": [],
      "source": [
        "def get_angles(position, i, d_model):\n",
        "    angle_rates = 1 / np.power(10000, (2 * (i // 2)) / np.float32(d_model))\n",
        "    return position * angle_rates"
      ]
    },
    {
      "cell_type": "code",
      "execution_count": 18,
      "metadata": {
        "id": "40J2pc2NEXp5"
      },
      "outputs": [],
      "source": [
        "def positional_encoding(position, d_model):\n",
        "    angle_rads = get_angles(\n",
        "        np.arange(position)[:, np.newaxis],\n",
        "        np.arange(d_model)[np.newaxis, :],\n",
        "        d_model\n",
        "    )\n",
        "\n",
        "    # apply sin to even indices in the array; 2i\n",
        "    angle_rads[:, 0::2] = np.sin(angle_rads[:, 0::2])\n",
        "\n",
        "    # apply cos to odd indices in the array; 2i+1\n",
        "    angle_rads[:, 1::2] = np.cos(angle_rads[:, 1::2])\n",
        "\n",
        "    pos_encoding = angle_rads[np.newaxis, ...]\n",
        "\n",
        "    return tf.cast(pos_encoding, dtype=tf.float32)\n"
      ]
    },
    {
      "cell_type": "markdown",
      "metadata": {
        "id": "24Pe01DMMWHc"
      },
      "source": [
        "### Masking\n",
        "\n",
        "- Padding mask for masking \"pad\" sequences\n",
        "- Lookahead mask for masking future words from contributing in prediction of current words in self attention"
      ]
    },
    {
      "cell_type": "code",
      "execution_count": 19,
      "metadata": {
        "id": "hN1wVQAdMVYy"
      },
      "outputs": [],
      "source": [
        "def create_padding_mask(seq):\n",
        "    seq = tf.cast(tf.math.equal(seq, 0), tf.float32)\n",
        "    return seq[:, tf.newaxis, tf.newaxis, :]"
      ]
    },
    {
      "cell_type": "code",
      "execution_count": 20,
      "metadata": {
        "id": "UmjAPLWuMREE"
      },
      "outputs": [],
      "source": [
        "def create_look_ahead_mask(size):\n",
        "    mask = 1 - tf.linalg.band_part(tf.ones((size, size)), -1, 0)\n",
        "    return mask"
      ]
    },
    {
      "cell_type": "markdown",
      "metadata": {
        "id": "n8DqUBc4NFOy"
      },
      "source": [
        "### Building the Model"
      ]
    },
    {
      "cell_type": "markdown",
      "metadata": {
        "id": "WfknVF7hNKf7"
      },
      "source": [
        "#### Scaled Dot Product"
      ]
    },
    {
      "cell_type": "code",
      "execution_count": 21,
      "metadata": {
        "id": "w_B6M9OBNBKB"
      },
      "outputs": [],
      "source": [
        "def scaled_dot_product_attention(q, k, v, mask):\n",
        "    matmul_qk = tf.matmul(q, k, transpose_b=True)\n",
        "\n",
        "    dk = tf.cast(tf.shape(k)[-1], tf.float32)\n",
        "    scaled_attention_logits = matmul_qk / tf.math.sqrt(dk)\n",
        "\n",
        "    if mask is not None:\n",
        "        scaled_attention_logits += (mask * -1e9)  \n",
        "\n",
        "    attention_weights = tf.nn.softmax(scaled_attention_logits, axis=-1)\n",
        "\n",
        "    output = tf.matmul(attention_weights, v)\n",
        "    return output, attention_weights"
      ]
    },
    {
      "cell_type": "markdown",
      "metadata": {
        "id": "Rf7_a5uQOfJk"
      },
      "source": [
        "#### Multi-Headed Attention"
      ]
    },
    {
      "cell_type": "code",
      "execution_count": 22,
      "metadata": {
        "id": "iIuFrdXnNZEC"
      },
      "outputs": [],
      "source": [
        "class MultiHeadAttention(tf.keras.layers.Layer):\n",
        "    def __init__(self, d_model, num_heads):\n",
        "        super(MultiHeadAttention, self).__init__()\n",
        "        self.num_heads = num_heads\n",
        "        self.d_model = d_model\n",
        "\n",
        "        assert d_model % self.num_heads == 0\n",
        "\n",
        "        self.depth = d_model // self.num_heads\n",
        "\n",
        "        self.wq = tf.keras.layers.Dense(d_model)\n",
        "        self.wk = tf.keras.layers.Dense(d_model)\n",
        "        self.wv = tf.keras.layers.Dense(d_model)\n",
        "\n",
        "        self.dense = tf.keras.layers.Dense(d_model)\n",
        "        \n",
        "    def split_heads(self, x, batch_size):\n",
        "        x = tf.reshape(x, (batch_size, -1, self.num_heads, self.depth))\n",
        "        return tf.transpose(x, perm=[0, 2, 1, 3])\n",
        "    \n",
        "    def call(self, v, k, q, mask):\n",
        "        batch_size = tf.shape(q)[0]\n",
        "\n",
        "        q = self.wq(q)\n",
        "        k = self.wk(k)\n",
        "        v = self.wv(v)\n",
        "\n",
        "        q = self.split_heads(q, batch_size)\n",
        "        k = self.split_heads(k, batch_size)\n",
        "        v = self.split_heads(v, batch_size)\n",
        "\n",
        "        scaled_attention, attention_weights = scaled_dot_product_attention(\n",
        "            q, k, v, mask)\n",
        "\n",
        "        scaled_attention = tf.transpose(scaled_attention, perm=[0, 2, 1, 3])\n",
        "\n",
        "        concat_attention = tf.reshape(scaled_attention, (batch_size, -1, self.d_model))\n",
        "        output = self.dense(concat_attention)\n",
        "            \n",
        "        return output, attention_weights"
      ]
    },
    {
      "cell_type": "markdown",
      "metadata": {
        "id": "A49tXMVvOkOZ"
      },
      "source": [
        "### Feed Forward Network"
      ]
    },
    {
      "cell_type": "code",
      "execution_count": 23,
      "metadata": {
        "id": "d9-qoKuTNwKq"
      },
      "outputs": [],
      "source": [
        "def point_wise_feed_forward_network(d_model, dff):\n",
        "    return tf.keras.Sequential([\n",
        "        tf.keras.layers.Dense(dff, activation='relu'),\n",
        "        tf.keras.layers.Dense(d_model)\n",
        "    ])"
      ]
    },
    {
      "cell_type": "markdown",
      "metadata": {
        "id": "B2RRmn2bOpW9"
      },
      "source": [
        "#### Fundamental Unit of Transformer encoder"
      ]
    },
    {
      "cell_type": "code",
      "execution_count": 24,
      "metadata": {
        "id": "HNuoJoFWO335"
      },
      "outputs": [],
      "source": [
        "class EncoderLayer(tf.keras.layers.Layer):\n",
        "    def __init__(self, d_model, num_heads, dff, rate=0.1):\n",
        "        super(EncoderLayer, self).__init__()\n",
        "\n",
        "        self.mha = MultiHeadAttention(d_model, num_heads)\n",
        "        self.ffn = point_wise_feed_forward_network(d_model, dff)\n",
        "\n",
        "        self.layernorm1 = tf.keras.layers.LayerNormalization(epsilon=1e-6)\n",
        "        self.layernorm2 = tf.keras.layers.LayerNormalization(epsilon=1e-6)\n",
        "\n",
        "        self.dropout1 = tf.keras.layers.Dropout(rate)\n",
        "        self.dropout2 = tf.keras.layers.Dropout(rate)\n",
        "    \n",
        "    def call(self, x, training, mask):\n",
        "        attn_output, _ = self.mha(x, x, x, mask)\n",
        "        attn_output = self.dropout1(attn_output, training=training)\n",
        "        out1 = self.layernorm1(x + attn_output)\n",
        "\n",
        "        ffn_output = self.ffn(out1)\n",
        "        ffn_output = self.dropout2(ffn_output, training=training)\n",
        "        out2 = self.layernorm2(out1 + ffn_output)\n",
        "\n",
        "        return out2\n"
      ]
    },
    {
      "cell_type": "markdown",
      "metadata": {
        "id": "9i6Zh8gnPqdW"
      },
      "source": [
        "#### Fundamental Unit of Transformer decoder"
      ]
    },
    {
      "cell_type": "code",
      "execution_count": 25,
      "metadata": {
        "id": "7CVmvs6dPMRC"
      },
      "outputs": [],
      "source": [
        "class DecoderLayer(tf.keras.layers.Layer):\n",
        "    def __init__(self, d_model, num_heads, dff, rate=0.1):\n",
        "        super(DecoderLayer, self).__init__()\n",
        "\n",
        "        self.mha1 = MultiHeadAttention(d_model, num_heads)\n",
        "        self.mha2 = MultiHeadAttention(d_model, num_heads)\n",
        "\n",
        "        self.ffn = point_wise_feed_forward_network(d_model, dff)\n",
        "\n",
        "        self.layernorm1 = tf.keras.layers.LayerNormalization(epsilon=1e-6)\n",
        "        self.layernorm2 = tf.keras.layers.LayerNormalization(epsilon=1e-6)\n",
        "        self.layernorm3 = tf.keras.layers.LayerNormalization(epsilon=1e-6)\n",
        "\n",
        "        self.dropout1 = tf.keras.layers.Dropout(rate)\n",
        "        self.dropout2 = tf.keras.layers.Dropout(rate)\n",
        "        self.dropout3 = tf.keras.layers.Dropout(rate)\n",
        "    \n",
        "    \n",
        "    def call(self, x, enc_output, training, look_ahead_mask, padding_mask):\n",
        "        attn1, attn_weights_block1 = self.mha1(x, x, x, look_ahead_mask)\n",
        "        attn1 = self.dropout1(attn1, training=training)\n",
        "        out1 = self.layernorm1(attn1 + x)\n",
        "\n",
        "        attn2, attn_weights_block2 = self.mha2(enc_output, enc_output, out1, padding_mask)\n",
        "        attn2 = self.dropout2(attn2, training=training)\n",
        "        out2 = self.layernorm2(attn2 + out1)\n",
        "\n",
        "        ffn_output = self.ffn(out2)\n",
        "        ffn_output = self.dropout3(ffn_output, training=training)\n",
        "        out3 = self.layernorm3(ffn_output + out2)\n",
        "\n",
        "        return out3, attn_weights_block1, attn_weights_block2\n"
      ]
    },
    {
      "cell_type": "markdown",
      "metadata": {
        "id": "6zt5MUc_QNid"
      },
      "source": [
        "#### Encoder consisting of multiple EncoderLayer(s)"
      ]
    },
    {
      "cell_type": "code",
      "execution_count": 26,
      "metadata": {
        "id": "BrbnTwijQJ-h"
      },
      "outputs": [],
      "source": [
        "class Encoder(tf.keras.layers.Layer):\n",
        "    def __init__(self, num_layers, d_model, num_heads, dff, input_vocab_size, maximum_position_encoding, emb_matrix, max_len, rate=0.1):\n",
        "        super(Encoder, self).__init__()\n",
        "\n",
        "        self.d_model = d_model\n",
        "        self.num_layers = num_layers\n",
        "\n",
        "        self.embedding = tf.keras.layers.Embedding(input_dim = input_vocab_size, \n",
        "                      output_dim = d_model,\n",
        "                      input_length = max_len, # max_len of text sequence - 300\n",
        "                      weights=[emb_matrix],\n",
        "                      trainable=False) # static weights to be assigned from pretrained embedding\n",
        "        #self.embedding = tf.keras.layers.Embedding(input_vocab_size, d_model)\n",
        "        self.pos_encoding = positional_encoding(maximum_position_encoding, self.d_model)\n",
        "\n",
        "        self.enc_layers = [EncoderLayer(d_model, num_heads, dff, rate) for _ in range(num_layers)]\n",
        "\n",
        "        self.dropout = tf.keras.layers.Dropout(rate)\n",
        "        \n",
        "    def call(self, x, training, mask):\n",
        "        seq_len = tf.shape(x)[1]\n",
        "\n",
        "        x = self.embedding(x)\n",
        "        x *= tf.math.sqrt(tf.cast(self.d_model, tf.float32))\n",
        "        x += self.pos_encoding[:, :seq_len, :]\n",
        "\n",
        "        x = self.dropout(x, training=training)\n",
        "    \n",
        "        for i in range(self.num_layers):\n",
        "            x = self.enc_layers[i](x, training, mask)\n",
        "    \n",
        "        return x\n"
      ]
    },
    {
      "cell_type": "markdown",
      "metadata": {
        "id": "4N5LrNrvRexg"
      },
      "source": [
        "#### Decoder consisting of multiple DecoderLayer(s)"
      ]
    },
    {
      "cell_type": "code",
      "execution_count": 27,
      "metadata": {
        "id": "UmeqkZrIRbSB"
      },
      "outputs": [],
      "source": [
        "class Decoder(tf.keras.layers.Layer):\n",
        "    def __init__(self, num_layers, d_model, num_heads, dff, target_vocab_size, maximum_position_encoding, emb_matrix, max_len, rate=0.1):\n",
        "        super(Decoder, self).__init__()\n",
        "\n",
        "        self.d_model = d_model\n",
        "        self.num_layers = num_layers\n",
        "\n",
        "        #self.embedding = tf.keras.layers.Embedding(target_vocab_size, d_model)\n",
        "        self.embedding = tf.keras.layers.Embedding(input_dim = target_vocab_size, \n",
        "                      output_dim = d_model,\n",
        "                      input_length = max_len, # max_len of summ sequence - 16\n",
        "                      weights=[emb_matrix],\n",
        "                      trainable=False)\n",
        "        self.pos_encoding = positional_encoding(maximum_position_encoding, d_model)\n",
        "\n",
        "        self.dec_layers = [DecoderLayer(d_model, num_heads, dff, rate) for _ in range(num_layers)]\n",
        "        self.dropout = tf.keras.layers.Dropout(rate)\n",
        "    \n",
        "    def call(self, x, enc_output, training, look_ahead_mask, padding_mask):\n",
        "        seq_len = tf.shape(x)[1]\n",
        "        attention_weights = {}\n",
        "\n",
        "        x = self.embedding(x)\n",
        "        x *= tf.math.sqrt(tf.cast(self.d_model, tf.float32))\n",
        "        x += self.pos_encoding[:, :seq_len, :]\n",
        "\n",
        "        x = self.dropout(x, training=training)\n",
        "\n",
        "        for i in range(self.num_layers):\n",
        "            x, block1, block2 = self.dec_layers[i](x, enc_output, training, look_ahead_mask, padding_mask)\n",
        "\n",
        "            attention_weights['decoder_layer{}_block1'.format(i+1)] = block1\n",
        "            attention_weights['decoder_layer{}_block2'.format(i+1)] = block2\n",
        "    \n",
        "        return x, attention_weights\n"
      ]
    },
    {
      "cell_type": "markdown",
      "metadata": {
        "id": "lbMNK_bzSHnh"
      },
      "source": [
        "#### Finally, the Transformer"
      ]
    },
    {
      "cell_type": "code",
      "execution_count": 28,
      "metadata": {
        "id": "FXHRG-o4R9Mc"
      },
      "outputs": [],
      "source": [
        "class Transformer(tf.keras.Model):\n",
        "    def __init__(self, num_layers, d_model, num_heads, dff, input_vocab_size, target_vocab_size, pe_input, pe_target, text_matrix, max_len_text, summ_matrix, max_len_summ, rate=0.1):\n",
        "        super(Transformer, self).__init__()\n",
        "\n",
        "        self.encoder = Encoder(num_layers, d_model, num_heads, dff, input_vocab_size, pe_input, text_matrix, max_len_text, rate)\n",
        "\n",
        "        self.decoder = Decoder(num_layers, d_model, num_heads, dff, target_vocab_size, pe_target, summ_matrix, max_len_summ, rate)\n",
        "\n",
        "        self.final_layer = tf.keras.layers.Dense(target_vocab_size)\n",
        "    \n",
        "    def call(self, inp, tar, training, enc_padding_mask, look_ahead_mask, dec_padding_mask):\n",
        "        enc_output = self.encoder(inp, training, enc_padding_mask)\n",
        "\n",
        "        dec_output, attention_weights = self.decoder(tar, enc_output, training, look_ahead_mask, dec_padding_mask)\n",
        "\n",
        "        final_output = self.final_layer(dec_output)\n",
        "\n",
        "        return final_output, attention_weights\n"
      ]
    },
    {
      "cell_type": "markdown",
      "metadata": {
        "id": "UndsMPZXTdSr"
      },
      "source": [
        "### Training"
      ]
    },
    {
      "cell_type": "code",
      "execution_count": 29,
      "metadata": {
        "id": "6zUhf3Wb2N6J"
      },
      "outputs": [],
      "source": [
        "with open(default_path+'text_matrix.pickle', 'rb') as handle:\n",
        "    text_matrix = pickle.load(handle)\n",
        "with open(default_path+'summ_matrix.pickle', 'rb') as handle:\n",
        "    summ_matrix = pickle.load(handle)"
      ]
    },
    {
      "cell_type": "code",
      "execution_count": 31,
      "metadata": {
        "id": "lMTZJdIoSbuy"
      },
      "outputs": [],
      "source": [
        "# hyper-params\n",
        "num_layers = 4\n",
        "d_model = text_matrix.shape[1]\n",
        "dff = 512\n",
        "num_heads = 10\n",
        "EPOCHS = 20\n",
        "max_len_text = 300\n",
        "max_len_summ = 16"
      ]
    },
    {
      "cell_type": "code",
      "execution_count": 30,
      "metadata": {
        "id": "lpjRGbUkl-Q0"
      },
      "outputs": [],
      "source": [
        "encoder_vocab_size = 110757\n",
        "decoder_vocab_size = 25121"
      ]
    },
    {
      "cell_type": "markdown",
      "metadata": {
        "id": "uOGvkYDNTjIj"
      },
      "source": [
        "#### Adam optimizer with custom learning rate scheduling"
      ]
    },
    {
      "cell_type": "code",
      "execution_count": 33,
      "metadata": {
        "id": "tfiynCLlTL8C"
      },
      "outputs": [],
      "source": [
        "class CustomSchedule(tf.keras.optimizers.schedules.LearningRateSchedule):\n",
        "    def __init__(self, d_model, warmup_steps=4000):\n",
        "        super(CustomSchedule, self).__init__()\n",
        "\n",
        "        self.d_model = d_model\n",
        "        self.d_model = tf.cast(self.d_model, tf.float32)\n",
        "\n",
        "        self.warmup_steps = warmup_steps\n",
        "    \n",
        "    def __call__(self, step):\n",
        "        arg1 = tf.math.rsqrt(step)\n",
        "        arg2 = step * (self.warmup_steps ** -1.5)\n",
        "\n",
        "        return tf.math.rsqrt(self.d_model) * tf.math.minimum(arg1, arg2)\n"
      ]
    },
    {
      "cell_type": "markdown",
      "metadata": {
        "id": "DsVdrENTUERY"
      },
      "source": [
        "#### Custom Loss and Accuracy Functions"
      ]
    },
    {
      "cell_type": "code",
      "execution_count": 34,
      "metadata": {
        "id": "Ip1-943kTXXK"
      },
      "outputs": [],
      "source": [
        "learning_rate = CustomSchedule(d_model)\n",
        "\n",
        "optimizer = tf.keras.optimizers.Adam(learning_rate, beta_1=0.9, beta_2=0.98, epsilon=1e-9)"
      ]
    },
    {
      "cell_type": "code",
      "execution_count": 35,
      "metadata": {
        "id": "ktKwyvKtTvF6"
      },
      "outputs": [],
      "source": [
        "loss_object = tf.keras.losses.SparseCategoricalCrossentropy(from_logits=True, reduction='none')"
      ]
    },
    {
      "cell_type": "code",
      "execution_count": 36,
      "metadata": {
        "id": "uW4LA_45T4Aa"
      },
      "outputs": [],
      "source": [
        "def loss_function(real, pred):\n",
        "    mask = tf.math.logical_not(tf.math.equal(real, 0))\n",
        "    loss_ = loss_object(real, pred)\n",
        "\n",
        "    mask = tf.cast(mask, dtype=loss_.dtype)\n",
        "    loss_ *= mask\n",
        "\n",
        "    return tf.reduce_sum(loss_)/tf.reduce_sum(mask)\n"
      ]
    },
    {
      "cell_type": "code",
      "execution_count": 37,
      "metadata": {
        "id": "Ze0u6xxXT7dI"
      },
      "outputs": [],
      "source": [
        "train_loss = tf.keras.metrics.Mean(name='train_loss')"
      ]
    },
    {
      "cell_type": "code",
      "execution_count": 38,
      "metadata": {
        "id": "IjuEY22pv6Iq"
      },
      "outputs": [],
      "source": [
        "val_loss = tf.keras.metrics.Mean(name='val_loss')"
      ]
    },
    {
      "cell_type": "markdown",
      "metadata": {
        "id": "9XvKy3v6ULnO"
      },
      "source": [
        "#### Transformer"
      ]
    },
    {
      "cell_type": "code",
      "execution_count": 39,
      "metadata": {
        "id": "d5-RcxqFUCuk"
      },
      "outputs": [],
      "source": [
        "transformer = Transformer(\n",
        "    num_layers, \n",
        "    d_model, \n",
        "    num_heads, \n",
        "    dff,\n",
        "    encoder_vocab_size, \n",
        "    decoder_vocab_size, \n",
        "    pe_input = encoder_vocab_size, \n",
        "    pe_target = decoder_vocab_size,\n",
        "    text_matrix = text_matrix, \n",
        "    max_len_text = max_len_text, \n",
        "    summ_matrix = summ_matrix, \n",
        "    max_len_summ = max_len_summ\n",
        ")"
      ]
    },
    {
      "cell_type": "markdown",
      "metadata": {
        "id": "f56BGiVXU_Dk"
      },
      "source": [
        "#### Masks"
      ]
    },
    {
      "cell_type": "code",
      "execution_count": 40,
      "metadata": {
        "id": "FZxHuyZxU5Pa"
      },
      "outputs": [],
      "source": [
        "def create_masks(inp, tar):\n",
        "    enc_padding_mask = create_padding_mask(inp)\n",
        "    dec_padding_mask = create_padding_mask(inp)\n",
        "\n",
        "    look_ahead_mask = create_look_ahead_mask(tf.shape(tar)[1])\n",
        "    dec_target_padding_mask = create_padding_mask(tar)\n",
        "    combined_mask = tf.maximum(dec_target_padding_mask, look_ahead_mask)\n",
        "  \n",
        "    return enc_padding_mask, combined_mask, dec_padding_mask\n"
      ]
    },
    {
      "cell_type": "markdown",
      "metadata": {
        "id": "SYIotvaBVI0d"
      },
      "source": [
        "#### Checkpoints"
      ]
    },
    {
      "cell_type": "code",
      "execution_count": 41,
      "metadata": {
        "id": "tOc1_3c-VGaL",
        "colab": {
          "base_uri": "https://localhost:8080/"
        },
        "outputId": "f6c932ca-23e8-4844-d0d2-d1bd3454c119"
      },
      "outputs": [
        {
          "output_type": "stream",
          "name": "stdout",
          "text": [
            "Latest checkpoint restored!!\n"
          ]
        }
      ],
      "source": [
        "checkpoint_path = default_path+\"checkpoints\"\n",
        "\n",
        "ckpt = tf.train.Checkpoint(transformer=transformer, optimizer=optimizer)\n",
        "\n",
        "ckpt_manager = tf.train.CheckpointManager(ckpt, checkpoint_path, max_to_keep=5)\n",
        "\n",
        "if ckpt_manager.latest_checkpoint:\n",
        "    ckpt.restore(ckpt_manager.latest_checkpoint)\n",
        "    print ('Latest checkpoint restored!!')"
      ]
    },
    {
      "cell_type": "markdown",
      "metadata": {
        "id": "WfpI0gS4c06c"
      },
      "source": [
        "#### Training steps"
      ]
    },
    {
      "cell_type": "code",
      "execution_count": null,
      "metadata": {
        "id": "xmVOMzkrczgl"
      },
      "outputs": [],
      "source": [
        "@tf.function\n",
        "def train_step(inp, tar):\n",
        "    tar_inp = tar[:, :-1]\n",
        "    tar_real = tar[:, 1:]\n",
        "\n",
        "    enc_padding_mask, combined_mask, dec_padding_mask = create_masks(inp, tar_inp)\n",
        "\n",
        "    with tf.GradientTape() as tape:\n",
        "        predictions, _ = transformer(\n",
        "            inp, tar_inp, \n",
        "            True, \n",
        "            enc_padding_mask, \n",
        "            combined_mask, \n",
        "            dec_padding_mask\n",
        "        )\n",
        "        loss = loss_function(tar_real, predictions)\n",
        "        \n",
        "    gradients = tape.gradient(loss, transformer.trainable_variables)    \n",
        "    optimizer.apply_gradients(zip(gradients, transformer.trainable_variables))\n",
        "\n",
        "    train_loss(loss)"
      ]
    },
    {
      "cell_type": "markdown",
      "metadata": {
        "id": "lmGP2ar_HrfJ"
      },
      "source": [
        "### Test Validation Steps"
      ]
    },
    {
      "cell_type": "code",
      "execution_count": null,
      "metadata": {
        "id": "EOL61k00HqpF"
      },
      "outputs": [],
      "source": [
        "@tf.function\n",
        "def val_step(inp, tar):\n",
        "    tar_inp = tar[:, :-1]\n",
        "    tar_real = tar[:, 1:]\n",
        "\n",
        "    enc_padding_mask, combined_mask, dec_padding_mask = create_masks(inp, tar_inp)\n",
        "\n",
        "    with tf.GradientTape() as tape:\n",
        "        predictions, _ = transformer(\n",
        "            inp, tar_inp, \n",
        "            False, \n",
        "            enc_padding_mask, \n",
        "            combined_mask, \n",
        "            dec_padding_mask\n",
        "        )\n",
        "        loss = loss_function(tar_real, predictions)\n",
        "    val_loss(loss)"
      ]
    },
    {
      "cell_type": "code",
      "execution_count": null,
      "metadata": {
        "id": "xORKpv69dSW5"
      },
      "outputs": [],
      "source": [
        "train_loss_values = []\n",
        "test_loss_values = []\n",
        "for epoch in range(EPOCHS):\n",
        "    start = time.time()\n",
        "\n",
        "    train_loss.reset_states()\n",
        "    val_loss.reset_states()\n",
        "    #training set - forward prop, loss fn, (gradient descent and optimization) backprop\n",
        "    for (batch, (inp, tar)) in enumerate(dataset):\n",
        "        train_step(inp, tar)\n",
        "    \n",
        "        # 85k samples\n",
        "        # we display 3 batch results -- 0th, middle and last one (approx)\n",
        "        # 85k / 64 ~ 1328; 1328 / 2 ~ 664\n",
        "        if batch % 2601 == 0:\n",
        "            print ('Epoch {} ========> Batch {} Loss {:.4f}'.format(epoch + 1, batch, train_loss.result().numpy()))\n",
        "      \n",
        "    if (epoch + 1) % 2 == 0:\n",
        "        ckpt_save_path = ckpt_manager.save()\n",
        "        print ('Saving checkpoint for epoch {} at {}'.format(epoch+1, ckpt_save_path))\n",
        "\n",
        "    train_loss_values.append(train_loss.result().numpy())\n",
        "    \n",
        "    #test set - forward pass, loss fn (no backward pass)\n",
        "    for (batch, (inp, tar)) in enumerate(test_dataset):\n",
        "        val_step(inp, tar)\n",
        "\n",
        "    test_loss_values.append(val_loss.result().numpy())\n",
        "    \n",
        "    print ('Epoch {}/{} ========> Training Loss {:.4f} Test/Validation Loss {:.4f}'.format(epoch + 1, EPOCHS, train_loss.result().numpy(), val_loss.result().numpy()))\n",
        "    \n",
        "    print ('Time taken for epoch {}: {:.2f} secs\\n'.format(epoch+1, time.time() - start))"
      ]
    },
    {
      "cell_type": "code",
      "execution_count": null,
      "metadata": {
        "id": "8yK0U1QTHOGw",
        "colab": {
          "base_uri": "https://localhost:8080/",
          "height": 404
        },
        "outputId": "87d416ea-c7c1-43de-dd13-66cd04c7b39b"
      },
      "outputs": [
        {
          "output_type": "display_data",
          "data": {
            "text/plain": [
              "<Figure size 720x432 with 1 Axes>"
            ],
            "image/png": "[encoded data removed]"
          },
          "metadata": {
            "needs_background": "light"
          }
        }
      ],
      "source": [
        "no_of_epochs = [i for i in range(EPOCHS)]\n",
        "fig , ax = plt.subplots(1,1)\n",
        "fig.set_size_inches(10,6)\n",
        "ax.plot(no_of_epochs, test_loss_values, label = 'Testing Loss')\n",
        "ax.plot(no_of_epochs, train_loss_values, label = 'Training Loss')\n",
        "ax.set_title('Categorical Crossentropy Loss vs No. of Epochs')\n",
        "ax.legend()\n",
        "ax.set_xlabel(\"No. of Epochs\")\n",
        "plt.show()"
      ]
    },
    {
      "cell_type": "markdown",
      "metadata": {
        "id": "YMbqGTixu1cl"
      },
      "source": [
        "#### Predicting one word at a time at the decoder and appending it to the output; then taking the complete sequence as an input to the decoder and repeating until maxlen or stop keyword appears"
      ]
    },
    {
      "cell_type": "code",
      "execution_count": 42,
      "metadata": {
        "id": "gHPLy2CmNSLc"
      },
      "outputs": [],
      "source": [
        "with open(default_path+'text_tokenizer.pickle', 'rb') as handle:\n",
        "    text_tokenizer = pickle.load(handle)\n",
        "with open(default_path+'summary_tokenizer.pickle', 'rb') as handle:\n",
        "    summary_tokenizer = pickle.load(handle)\n",
        "max_text_len = 300\n",
        "max_summary_len = 16"
      ]
    },
    {
      "cell_type": "code",
      "execution_count": 43,
      "metadata": {
        "id": "F5D5cv2Jd8-6"
      },
      "outputs": [],
      "source": [
        "def predict(input_document):\n",
        "    # #clean\n",
        "    #input_document = preprocess_tokenize(input_document)\n",
        "    input_document = \"sostok \"+input_document+\" eostok\"\n",
        "    #tokenize\n",
        "    input_document = text_tokenizer.texts_to_sequences([input_document])\n",
        "    #padding\n",
        "    input_document = tf.keras.preprocessing.sequence.pad_sequences(input_document, maxlen=max_text_len, padding='post', truncating='post')\n",
        "\n",
        "    encoder_input = tf.expand_dims(input_document[0], 0)\n",
        "\n",
        "    decoder_input = [summary_tokenizer.word_index[\"sostok\"]]\n",
        "    output = tf.expand_dims(decoder_input, 0)\n",
        "    \n",
        "    for i in range(max_summary_len):\n",
        "        enc_padding_mask, combined_mask, dec_padding_mask = create_masks(encoder_input, output)\n",
        "\n",
        "        predictions, attention_weights = transformer(\n",
        "            encoder_input, \n",
        "            output,\n",
        "            False,\n",
        "            enc_padding_mask,\n",
        "            combined_mask,\n",
        "            dec_padding_mask,\n",
        "        )\n",
        "\n",
        "        predictions = predictions[: ,-1:, :]\n",
        "        predicted_id = tf.cast(tf.argmax(predictions, axis=-1), tf.int32)\n",
        "\n",
        "        if predicted_id == summary_tokenizer.word_index[\"eostok\"]:\n",
        "            return tf.squeeze(output, axis=0), attention_weights\n",
        "\n",
        "        output = tf.concat([output, predicted_id], axis=-1)\n",
        "\n",
        "    return tf.squeeze(output, axis=0), attention_weights"
      ]
    },
    {
      "cell_type": "code",
      "execution_count": 44,
      "metadata": {
        "id": "UkpdiW6wnmiS"
      },
      "outputs": [],
      "source": [
        "def summarize(input_document):\n",
        "    # not considering attention weights for now, can be used to plot attention heatmaps in the future\n",
        "    summarized = predict(input_document=input_document)[0].numpy()\n",
        "    summarized = np.expand_dims(summarized[1:], 0)  # not printing <go> token\n",
        "    return summary_tokenizer.sequences_to_texts(summarized)[0]  # since there is just one translated document"
      ]
    },
    {
      "cell_type": "code",
      "source": [
        "summarize(\"पूर्व प्रधानमंत्री और कांग्रेस के दिग्गज नेता राजीव गांधी की आज 75वीं जयंती है. इस मौके पर कांग्रेस अध्यक्ष राहुल गांधी, यूपीए चेयरपर्सन सोनिया गांधी, प्रियंका गांधी, पूर्व प्रधानमंत्री मनमोहन सिंह समेत कई बड़े कांग्रेस नेताओं ने उन्हें श्रद्धांजलि अर्पित की. प्रधानमंत्री नरेंद्र मोदी ने भी ट्वीट कर उन्हें श्रद्धांजलि दी. बता दें कि राजीव गांधी का जन्म आज ही के दिन 1944 में हुआ था. 21 मई, 1991 को उनकी हत्या कर दी गई थी. राजीव गांधी 1984 से 1989 तक प्रधानमंत्री रहे. तमिलनाडु के श्रीपेरंबुदुर में 21 मई, 1991 को आम चुनाव के प्रचार के दौरान एलटीटीई के एक आत्मघाती हमलावर ने राजीव गांधी की हत्या कर दी थी. 1984 में इंदिरा गांधी की हत्या के बाद वह भारी बहुमत के साथ प्रधानमंत्री बने. राजीव गांधी की राजनीति में कोई रूचि नहीं थी और वो एक एयरलाइन पायलट की नौकरी करते थे और उसी में खुश थे. लेकिन आपातकाल के उपरान्त जब इंदिरा गांधी को सत्ता छोड़नी पड़ी थी. वहीं साल 1980 में छोटे भाई संजय गांधी की हवाई जहाज दुर्घटना में मृत्यु हो जाने के बाद माता इंदिरा का सहयोग देने के लिए उन्होंने राजनीति में प्रवेश कर लिया.\")"
      ],
      "metadata": {
        "colab": {
          "base_uri": "https://localhost:8080/",
          "height": 35
        },
        "id": "EszFpEG98joV",
        "outputId": "749eb767-83b8-4357-ded9-cc076f0d520a"
      },
      "execution_count": 45,
      "outputs": [
        {
          "output_type": "execute_result",
          "data": {
            "text/plain": [
              "'राजीव गांधी की पुण्यतिथि पर प्रधानमंत्री नरेंद्र मोदी ने दी श्रद्धांजलि'"
            ],
            "application/vnd.google.colaboratory.intrinsic+json": {
              "type": "string"
            }
          },
          "metadata": {},
          "execution_count": 45
        }
      ]
    },
    {
      "cell_type": "markdown",
      "source": [
        "#### Output"
      ],
      "metadata": {
        "id": "ghFFn6Ix9und"
      }
    },
    {
      "cell_type": "code",
      "source": [
        "documents = test[\"article\"]\n",
        "summary = test[\"headline\"]"
      ],
      "metadata": {
        "id": "os6gTaJkDdup"
      },
      "execution_count": 46,
      "outputs": []
    },
    {
      "cell_type": "code",
      "source": [
        "samples = [17, 35, 69, 21, 26]\n",
        "docs = []\n",
        "summ = []\n",
        "pred = []\n",
        "for i in samples:\n",
        "  pred.append(summarize(documents[i]))\n",
        "  docs.append(' '.join(documents[i].split(' ')[:100]))\n",
        "  summ.append(summary[i])\n",
        "\n",
        "\n",
        "result_df = pd.DataFrame({'Input': docs, 'Reference Summary': summ, 'Model Output Summary': pred, 'Padding':pred })\n",
        "result_df[['Input', 'Reference Summary', 'Model Output Summary']] #17, 69, 21, 26, 35\n",
        "result_df.style.set_properties(subset=['Input', 'Padding'], **{'width': '400px'})"
      ],
      "metadata": {
        "colab": {
          "base_uri": "https://localhost:8080/",
          "height": 883
        },
        "id": "HbWHHKge9t8B",
        "outputId": "40cec07b-07da-476b-d3ed-4578ab36f971"
      },
      "execution_count": 50,
      "outputs": [
        {
          "output_type": "execute_result",
          "data": {
            "text/plain": [
              "<pandas.io.formats.style.Styler at 0x7fc040d01850>"
            ],
            "text/html": [
              "<style type=\"text/css\">\n",
              "#T_c48e8_row0_col0, #T_c48e8_row0_col3, #T_c48e8_row1_col0, #T_c48e8_row1_col3, #T_c48e8_row2_col0, #T_c48e8_row2_col3, #T_c48e8_row3_col0, #T_c48e8_row3_col3, #T_c48e8_row4_col0, #T_c48e8_row4_col3 {\n",
              "  width: 400px;\n",
              "}\n",
              "</style>\n",
              "<table id=\"T_c48e8_\" class=\"dataframe\">\n",
              "  <thead>\n",
              "    <tr>\n",
              "      <th class=\"blank level0\" >&nbsp;</th>\n",
              "      <th class=\"col_heading level0 col0\" >Input</th>\n",
              "      <th class=\"col_heading level0 col1\" >Reference Summary</th>\n",
              "      <th class=\"col_heading level0 col2\" >Model Output Summary</th>\n",
              "      <th class=\"col_heading level0 col3\" >Padding</th>\n",
              "    </tr>\n",
              "  </thead>\n",
              "  <tbody>\n",
              "    <tr>\n",
              "      <th id=\"T_c48e8_level0_row0\" class=\"row_heading level0 row0\" >0</th>\n",
              "      <td id=\"T_c48e8_row0_col0\" class=\"data row0 col0\" >इराक की राजधानी बगदाद में सोमवार को दो आत्मघाती हमले हुए. अधिकारियों ने जानकारी देते हुए कहा कि इस दोहरे आत्मघाती हमले में 26 लोगों की मौत हो गई. आपको बता दें कि इराकी राजधानी में पिछले तीन दिनों में हुआ यह दूसरा हमला है.\n",
              "पूर्वी बगदाद के स्वास्थ्य प्रमुख डॉ अब्देल गनी अल-सादी ने ‘‘26 लोगों के मारे जाने और 90 के घायल होने” की जानकारी दी. सेना और पुलिस की संयुक्त ऑपरेशन्स कमान के प्रवक्ता जनरल साद मान ने बताया, “मध्य बगदाद के अल-तय्यारन चौराहे पर दो\n",
              "आत्मघाती हमलावरों\n",
              "ने खुद को धमाका कर उड़ा लिया.”\n",
              "इराक के बगदाद का तय्यारन चौराहा</td>\n",
              "      <td id=\"T_c48e8_row0_col1\" class=\"data row0 col1\" >इराक के बगदाद में दोहरा आत्मघाती हमला, 26 लोगों की मौत</td>\n",
              "      <td id=\"T_c48e8_row0_col2\" class=\"data row0 col2\" >इराक में आत्मघाती हमले में लोगों की मौत</td>\n",
              "      <td id=\"T_c48e8_row0_col3\" class=\"data row0 col3\" >इराक में आत्मघाती हमले में लोगों की मौत</td>\n",
              "    </tr>\n",
              "    <tr>\n",
              "      <th id=\"T_c48e8_level0_row1\" class=\"row_heading level0 row1\" >1</th>\n",
              "      <td id=\"T_c48e8_row1_col0\" class=\"data row1 col0\" >दिल्ली से सटे नोएडा के ग्राम बंबावड़ में एक महिला की मौत के मामले में ससुराल पक्ष पर दहेज हत्या का मामला दर्ज किया गया है. महिला के पिता ने उसके पति समेत छह लोगों के खिलाफ थाना बादलपुर में मामला दर्ज कराया है.\n",
              "पुलिस उपाधीक्षक दादरी निशांक शर्मा ने बताया कि गांव सौराजपुर के रहने वाले विनोद कुमार ने थाना बादलपुर में रिपोर्ट दर्ज कराई कि उनकी बेटी मोनिका की शादी गांव बंबावड़ के रहने वाले अक्षय के साथ हुई थी.\n",
              "शादी के समय से ही उसके ससुराल वाले कार और नगदी की मांग कर रहे थे. मांग पूरी ना होने</td>\n",
              "      <td id=\"T_c48e8_row1_col1\" class=\"data row1 col1\" >ससुराल में महिला की संदिग्ध मौत, दहेज हत्या का केस दर्ज</td>\n",
              "      <td id=\"T_c48e8_row1_col2\" class=\"data row1 col2\" >दहेज के लिए महिला की हत्या</td>\n",
              "      <td id=\"T_c48e8_row1_col3\" class=\"data row1 col3\" >दहेज के लिए महिला की हत्या</td>\n",
              "    </tr>\n",
              "    <tr>\n",
              "      <th id=\"T_c48e8_level0_row2\" class=\"row_heading level0 row2\" >2</th>\n",
              "      <td id=\"T_c48e8_row2_col0\" class=\"data row2 col0\" >पूर्व प्रधानमंत्री और\n",
              "कांग्रेस\n",
              "के दिग्गज नेता\n",
              "राजीव गांधी\n",
              "की आज 75वीं जयंती है. इस मौके पर कांग्रेस अध्यक्ष राहुल गांधी, यूपीए चेयरपर्सन सोनिया गांधी, प्रियंका गांधी, पूर्व प्रधानमंत्री मनमोहन सिंह समेत कई बड़े कांग्रेस नेताओं ने उन्हें श्रद्धांजलि अर्पित की. प्रधानमंत्री नरेंद्र मोदी ने भी ट्वीट कर उन्हें श्रद्धांजलि दी.\n",
              "बता दें कि राजीव गांधी का जन्म आज ही के दिन 1944 में हुआ था. 21 मई, 1991 को उनकी हत्या कर दी गई थी.\n",
              "Tributes to our former Prime Minister Shri Rajiv Gandhi Ji on his birth anniversary. We remember his efforts towards the nation.\n",
              "— Narendra Modi (@narendramodi)\n",
              "August 20, 2018\n",
              "Delhi: Sonia Gandhi, Rahul Gandhi,</td>\n",
              "      <td id=\"T_c48e8_row2_col1\" class=\"data row2 col1\" >राजीव गांधी की जयंती पर पीएम मोदी का ट्वीट, देश के लिए योगदान यादगार</td>\n",
              "      <td id=\"T_c48e8_row2_col2\" class=\"data row2 col2\" >राजीव गांधी की पुण्यतिथि पर प्रधानमंत्री नरेंद्र मोदी ने दी श्रद्धांजलि</td>\n",
              "      <td id=\"T_c48e8_row2_col3\" class=\"data row2 col3\" >राजीव गांधी की पुण्यतिथि पर प्रधानमंत्री नरेंद्र मोदी ने दी श्रद्धांजलि</td>\n",
              "    </tr>\n",
              "    <tr>\n",
              "      <th id=\"T_c48e8_level0_row3\" class=\"row_heading level0 row3\" >3</th>\n",
              "      <td id=\"T_c48e8_row3_col0\" class=\"data row3 col0\" >सैमसंग इंडिया ने शुक्रवार को मिनिस्ट्री ऑफ माइक्रो, स्मॉल एंड मिडियम इंटरप्राइजेस (MSME) के साथ एमओयू पर हस्ताक्षर किए, जिसके तहत दो और टेक्निकल स्कूल खोलने और देश भर में चल रहे 10 वर्तमान स्कूलों को चलाने के लिए पार्टनरशिप को रिन्यू किया गया. कंपनी ने एक बयान में कहा कि एमओयू के मुताबिक वह बेंगलुरू और जमशेदपुर में दो नए MSME-Samsung टेक्निकल स्कूल खोलेगी.\n",
              "सूक्ष्म, लघु एवं मध्यम उद्यम मंत्री कलराज मिश्र ने एक बयान में कहा, 'हम उद्योग के लिए तैयार कार्यबल के निर्माण के लिए प्रतिबद्ध हैं और स्किल इंडिया कार्यक्रम के तहत हम\n",
              "युवाओं को इंडस्ट्री\n",
              "को ध्यान में</td>\n",
              "      <td id=\"T_c48e8_row3_col1\" class=\"data row3 col1\" >Samsung जमशेदपुर और बंगलुरू में खोलेगा टेक्निकल स्कूल</td>\n",
              "      <td id=\"T_c48e8_row3_col2\" class=\"data row3 col2\" >सैमसंग ने किया स्कूलों में फ्री पढ़ाई का आयोजन</td>\n",
              "      <td id=\"T_c48e8_row3_col3\" class=\"data row3 col3\" >सैमसंग ने किया स्कूलों में फ्री पढ़ाई का आयोजन</td>\n",
              "    </tr>\n",
              "    <tr>\n",
              "      <th id=\"T_c48e8_level0_row4\" class=\"row_heading level0 row4\" >4</th>\n",
              "      <td id=\"T_c48e8_row4_col0\" class=\"data row4 col0\" >एक अध्ययन की रिपोर्ट में सामने आया है कि जो पुरुष हरी पत्तेदार सब्जियां, गहरे नारंगी और लाल रंग वाली सब्जियां, बेरीज (स्ट्रॉबेरी, ब्लैकबेरी, ब्लूबेरी) खाते हैं और संतरे का जूस पीते हैं, उनके बुढ़ापे में\n",
              "याददाश्त\n",
              "खोने का खतरा कम हो जाता है.\n",
              "शोध के निष्कर्षों से पता चलता है कि जो पुरुष बुढ़ापे से 20 साल पहले ज्यादा मात्रा में फल और सब्जियां खाते हैं, उनमें सोच और\n",
              "याददाश्त\n",
              "से जुड़ी परेशानियां कम होती हैं, चाहे वे बाद में अधिक मात्रा में फल और सब्जियां खाएं या नहीं.\n",
              "शोधकर्ताओं ने पाया कि जो पुरुष रोजाना संतरे का जूस पीते हैं, उनमें याददाश्त कमजोर होने</td>\n",
              "      <td id=\"T_c48e8_row4_col1\" class=\"data row4 col1\" >डाइट में शामिल करें ये चीजें, बुढ़ापे में भी तेज रहेगी याददाश्त</td>\n",
              "      <td id=\"T_c48e8_row4_col2\" class=\"data row4 col2\" >वजन घटाने के लिए डाइट में शामिल करें ये चीजें</td>\n",
              "      <td id=\"T_c48e8_row4_col3\" class=\"data row4 col3\" >वजन घटाने के लिए डाइट में शामिल करें ये चीजें</td>\n",
              "    </tr>\n",
              "  </tbody>\n",
              "</table>\n"
            ]
          },
          "metadata": {},
          "execution_count": 50
        }
      ]
    },
    {
      "cell_type": "markdown",
      "metadata": {
        "id": "rAaTWjd0oWzG"
      },
      "source": [
        "### Summary Evaluation - ROUGE"
      ]
    },
    {
      "cell_type": "code",
      "execution_count": 51,
      "metadata": {
        "colab": {
          "base_uri": "https://localhost:8080/"
        },
        "id": "Tyci_Q8cohOa",
        "outputId": "6bffe3bc-ded1-4bdf-9c70-827535651419"
      },
      "outputs": [
        {
          "output_type": "stream",
          "name": "stdout",
          "text": [
            "Looking in indexes: https://pypi.org/simple, https://us-python.pkg.dev/colab-wheels/public/simple/\n",
            "Collecting rouge\n",
            "  Downloading rouge-1.0.1-py3-none-any.whl (13 kB)\n",
            "Requirement already satisfied: six in /usr/local/lib/python3.7/dist-packages (from rouge) (1.15.0)\n",
            "Installing collected packages: rouge\n",
            "Successfully installed rouge-1.0.1\n"
          ]
        }
      ],
      "source": [
        "!pip install rouge"
      ]
    },
    {
      "cell_type": "code",
      "execution_count": 52,
      "metadata": {
        "id": "gvtLSnJboZI8"
      },
      "outputs": [],
      "source": [
        "from rouge import Rouge"
      ]
    },
    {
      "cell_type": "code",
      "execution_count": 53,
      "metadata": {
        "id": "O9_KEUvGodH3"
      },
      "outputs": [],
      "source": [
        "rouge = Rouge()"
      ]
    },
    {
      "cell_type": "code",
      "source": [
        "summary = result_df['Model Output Summary'][0]\n",
        "reference = result_df['Reference Summary'][0]"
      ],
      "metadata": {
        "id": "GJlBSl5s-Jyy"
      },
      "execution_count": 55,
      "outputs": []
    },
    {
      "cell_type": "code",
      "source": [
        "rouge.get_scores(summary,reference)"
      ],
      "metadata": {
        "colab": {
          "base_uri": "https://localhost:8080/"
        },
        "id": "mknCgyrN9sMK",
        "outputId": "52857ca0-e368-4890-8a8a-48512255eec9"
      },
      "execution_count": 56,
      "outputs": [
        {
          "output_type": "execute_result",
          "data": {
            "text/plain": [
              "[{'rouge-1': {'f': 0.6666666619135801,\n",
              "   'p': 0.8571428571428571,\n",
              "   'r': 0.5454545454545454},\n",
              "  'rouge-2': {'f': 0.23529411280276827, 'p': 0.2857142857142857, 'r': 0.2},\n",
              "  'rouge-l': {'f': 0.6666666619135801,\n",
              "   'p': 0.8571428571428571,\n",
              "   'r': 0.5454545454545454}}]"
            ]
          },
          "metadata": {},
          "execution_count": 56
        }
      ]
    }
  ],
  "metadata": {
    "colab": {
      "collapsed_sections": [
        "oEnvEYxgxvOS",
        "7g7k7soMyBpQ",
        "Td7_wzZZyH0K",
        "9mBMOlMy6wR6",
        "xP44gjHSx8U_",
        "V6_ZUkajyZR2",
        "isN1CpAXLfsl",
        "24Pe01DMMWHc"
      ],
      "name": "Abstractive_Text_Summary_Hindi.ipynb",
      "provenance": []
    },
    "gpuClass": "standard",
    "kernelspec": {
      "display_name": "Python 3",
      "language": "python",
      "name": "python3"
    },
    "language_info": {
      "codemirror_mode": {
        "name": "ipython",
        "version": 3
      },
      "file_extension": ".py",
      "mimetype": "text/x-python",
      "name": "python",
      "nbconvert_exporter": "python",
      "pygments_lexer": "ipython3",
      "version": "3.8.3"
    },
    "accelerator": "GPU"
  },
  "nbformat": 4,
  "nbformat_minor": 0
}